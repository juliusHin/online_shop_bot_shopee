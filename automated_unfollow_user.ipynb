{
 "cells": [
  {
   "cell_type": "code",
   "execution_count": null,
   "metadata": {},
   "outputs": [],
   "source": [
    "# update packages if necessary\n",
    "\n",
    "import pkg_resources\n",
    "from subprocess import call\n",
    "\n",
    "packages = [dist.project_name for dist in pkg_resources.working_set]\n",
    "call(\"pip install --upgrade \" + ' '.join(packages), shell=True)"
   ]
  },
  {
   "cell_type": "code",
   "execution_count": 1,
   "metadata": {},
   "outputs": [
    {
     "name": "stdout",
     "output_type": "stream",
     "text": [
      "Defaulting to user installation because normal site-packages is not writeable\n",
      "Requirement already satisfied: webdriver-manager in /home/juliustn/.local/lib/python3.9/site-packages (3.5.1)\n",
      "Requirement already satisfied: requests in /usr/lib/python3.9/site-packages (from webdriver-manager) (2.26.0)\n",
      "Requirement already satisfied: crayons in /home/juliustn/.local/lib/python3.9/site-packages (from webdriver-manager) (0.4.0)\n",
      "Requirement already satisfied: configparser in /home/juliustn/.local/lib/python3.9/site-packages (from webdriver-manager) (5.0.2)\n",
      "Requirement already satisfied: colorama in /usr/lib/python3.9/site-packages (from crayons->webdriver-manager) (0.4.4)\n",
      "Requirement already satisfied: chardet>=3.0.2 in /home/juliustn/.local/lib/python3.9/site-packages (from requests->webdriver-manager) (4.0.0)\n",
      "Requirement already satisfied: idna>=2.5 in /home/juliustn/.local/lib/python3.9/site-packages (from requests->webdriver-manager) (3.3)\n",
      "Requirement already satisfied: urllib3>=1.21.1 in /usr/lib/python3.9/site-packages (from requests->webdriver-manager) (1.26.6)\n"
     ]
    }
   ],
   "source": [
    "!pip3 install webdriver-manager"
   ]
  },
  {
   "cell_type": "code",
   "execution_count": 1,
   "metadata": {},
   "outputs": [],
   "source": [
    "# Modules for web scraping\n",
    "# from bs4 import BeautifulSoup\n",
    "from selenium import webdriver\n",
    "from selenium.webdriver.common.action_chains import ActionChains\n",
    "# URL encoding\n",
    "from requests.utils import requote_uri\n",
    "# Module for data manipulation\n",
    "import pandas as pd\n",
    "# Module for regular expression\n",
    "import re\n",
    "# Module for file management\n",
    "import os\n",
    "# Module for timing\n",
    "import time\n",
    "from selenium.common.exceptions import TimeoutException, NoSuchElementException\n",
    "from selenium.webdriver.common.by import By\n",
    "from selenium.webdriver.support.ui import WebDriverWait\n",
    "from selenium.webdriver.support import expected_conditions as EC\n",
    "from selenium.webdriver.common.keys import Keys\n",
    "\n",
    "import xlrd\n",
    "from datetime import date\n",
    "# from webdriver_manager.chrome import ChromeDriverManager\n",
    "from webdriver_manager.firefox import GeckoDriverManager"
   ]
  },
  {
   "cell_type": "markdown",
   "metadata": {},
   "source": [
    "## READ EXCEL DATA"
   ]
  },
  {
   "cell_type": "code",
   "execution_count": 2,
   "metadata": {},
   "outputs": [],
   "source": [
    "df = pd.read_excel('/home/juliustn/Pekerjaan/shh/e-team/user_follow_list_Oct_26_2021.xlsx',engine='openpyxl')\n"
   ]
  },
  {
   "cell_type": "code",
   "execution_count": 3,
   "metadata": {},
   "outputs": [
    {
     "data": {
      "text/html": [
       "<div>\n",
       "<style scoped>\n",
       "    .dataframe tbody tr th:only-of-type {\n",
       "        vertical-align: middle;\n",
       "    }\n",
       "\n",
       "    .dataframe tbody tr th {\n",
       "        vertical-align: top;\n",
       "    }\n",
       "\n",
       "    .dataframe thead th {\n",
       "        text-align: right;\n",
       "    }\n",
       "</style>\n",
       "<table border=\"1\" class=\"dataframe\">\n",
       "  <thead>\n",
       "    <tr style=\"text-align: right;\">\n",
       "      <th></th>\n",
       "      <th>Unnamed: 0</th>\n",
       "      <th>username</th>\n",
       "      <th>user_link</th>\n",
       "    </tr>\n",
       "  </thead>\n",
       "  <tbody>\n",
       "    <tr>\n",
       "      <th>0</th>\n",
       "      <td>0</td>\n",
       "      <td>fitriyani_s.n94</td>\n",
       "      <td>https://shopee.co.id/shop/337325976</td>\n",
       "    </tr>\n",
       "    <tr>\n",
       "      <th>1</th>\n",
       "      <td>1</td>\n",
       "      <td>windymangase</td>\n",
       "      <td>https://shopee.co.id/shop/190360266</td>\n",
       "    </tr>\n",
       "    <tr>\n",
       "      <th>2</th>\n",
       "      <td>2</td>\n",
       "      <td>wahyuammarullah</td>\n",
       "      <td>https://shopee.co.id/shop/11991832</td>\n",
       "    </tr>\n",
       "    <tr>\n",
       "      <th>3</th>\n",
       "      <td>3</td>\n",
       "      <td>kucing_fika</td>\n",
       "      <td>https://shopee.co.id/shop/79242541</td>\n",
       "    </tr>\n",
       "    <tr>\n",
       "      <th>4</th>\n",
       "      <td>4</td>\n",
       "      <td>zavwa</td>\n",
       "      <td>https://shopee.co.id/shop/407579102</td>\n",
       "    </tr>\n",
       "    <tr>\n",
       "      <th>...</th>\n",
       "      <td>...</td>\n",
       "      <td>...</td>\n",
       "      <td>...</td>\n",
       "    </tr>\n",
       "    <tr>\n",
       "      <th>912</th>\n",
       "      <td>918</td>\n",
       "      <td>yuliyanah_sapitri</td>\n",
       "      <td>https://shopee.co.id/shop/284841683</td>\n",
       "    </tr>\n",
       "    <tr>\n",
       "      <th>913</th>\n",
       "      <td>919</td>\n",
       "      <td>semburat86</td>\n",
       "      <td>https://shopee.co.id/shop/79228045</td>\n",
       "    </tr>\n",
       "    <tr>\n",
       "      <th>914</th>\n",
       "      <td>920</td>\n",
       "      <td>riyo_bartender</td>\n",
       "      <td>https://shopee.co.id/shop/259467690</td>\n",
       "    </tr>\n",
       "    <tr>\n",
       "      <th>915</th>\n",
       "      <td>921</td>\n",
       "      <td>nurrofiyani</td>\n",
       "      <td>https://shopee.co.id/shop/139831961</td>\n",
       "    </tr>\n",
       "    <tr>\n",
       "      <th>916</th>\n",
       "      <td>922</td>\n",
       "      <td>hafizhop15</td>\n",
       "      <td>https://shopee.co.id/shop/108642173</td>\n",
       "    </tr>\n",
       "  </tbody>\n",
       "</table>\n",
       "<p>917 rows × 3 columns</p>\n",
       "</div>"
      ],
      "text/plain": [
       "     Unnamed: 0           username                            user_link\n",
       "0             0    fitriyani_s.n94  https://shopee.co.id/shop/337325976\n",
       "1             1       windymangase  https://shopee.co.id/shop/190360266\n",
       "2             2    wahyuammarullah   https://shopee.co.id/shop/11991832\n",
       "3             3        kucing_fika   https://shopee.co.id/shop/79242541\n",
       "4             4              zavwa  https://shopee.co.id/shop/407579102\n",
       "..          ...                ...                                  ...\n",
       "912         918  yuliyanah_sapitri  https://shopee.co.id/shop/284841683\n",
       "913         919         semburat86   https://shopee.co.id/shop/79228045\n",
       "914         920     riyo_bartender  https://shopee.co.id/shop/259467690\n",
       "915         921        nurrofiyani  https://shopee.co.id/shop/139831961\n",
       "916         922         hafizhop15  https://shopee.co.id/shop/108642173\n",
       "\n",
       "[917 rows x 3 columns]"
      ]
     },
     "execution_count": 3,
     "metadata": {},
     "output_type": "execute_result"
    }
   ],
   "source": [
    "df"
   ]
  },
  {
   "cell_type": "code",
   "execution_count": 4,
   "metadata": {},
   "outputs": [],
   "source": [
    "#remove duplicates\n",
    "df = df.drop_duplicates('username')"
   ]
  },
  {
   "cell_type": "code",
   "execution_count": 5,
   "metadata": {},
   "outputs": [
    {
     "data": {
      "text/html": [
       "<div>\n",
       "<style scoped>\n",
       "    .dataframe tbody tr th:only-of-type {\n",
       "        vertical-align: middle;\n",
       "    }\n",
       "\n",
       "    .dataframe tbody tr th {\n",
       "        vertical-align: top;\n",
       "    }\n",
       "\n",
       "    .dataframe thead th {\n",
       "        text-align: right;\n",
       "    }\n",
       "</style>\n",
       "<table border=\"1\" class=\"dataframe\">\n",
       "  <thead>\n",
       "    <tr style=\"text-align: right;\">\n",
       "      <th></th>\n",
       "      <th>Unnamed: 0</th>\n",
       "      <th>username</th>\n",
       "      <th>user_link</th>\n",
       "    </tr>\n",
       "  </thead>\n",
       "  <tbody>\n",
       "    <tr>\n",
       "      <th>0</th>\n",
       "      <td>0</td>\n",
       "      <td>fitriyani_s.n94</td>\n",
       "      <td>https://shopee.co.id/shop/337325976</td>\n",
       "    </tr>\n",
       "    <tr>\n",
       "      <th>1</th>\n",
       "      <td>1</td>\n",
       "      <td>windymangase</td>\n",
       "      <td>https://shopee.co.id/shop/190360266</td>\n",
       "    </tr>\n",
       "    <tr>\n",
       "      <th>2</th>\n",
       "      <td>2</td>\n",
       "      <td>wahyuammarullah</td>\n",
       "      <td>https://shopee.co.id/shop/11991832</td>\n",
       "    </tr>\n",
       "    <tr>\n",
       "      <th>3</th>\n",
       "      <td>3</td>\n",
       "      <td>kucing_fika</td>\n",
       "      <td>https://shopee.co.id/shop/79242541</td>\n",
       "    </tr>\n",
       "    <tr>\n",
       "      <th>4</th>\n",
       "      <td>4</td>\n",
       "      <td>zavwa</td>\n",
       "      <td>https://shopee.co.id/shop/407579102</td>\n",
       "    </tr>\n",
       "    <tr>\n",
       "      <th>...</th>\n",
       "      <td>...</td>\n",
       "      <td>...</td>\n",
       "      <td>...</td>\n",
       "    </tr>\n",
       "    <tr>\n",
       "      <th>912</th>\n",
       "      <td>918</td>\n",
       "      <td>yuliyanah_sapitri</td>\n",
       "      <td>https://shopee.co.id/shop/284841683</td>\n",
       "    </tr>\n",
       "    <tr>\n",
       "      <th>913</th>\n",
       "      <td>919</td>\n",
       "      <td>semburat86</td>\n",
       "      <td>https://shopee.co.id/shop/79228045</td>\n",
       "    </tr>\n",
       "    <tr>\n",
       "      <th>914</th>\n",
       "      <td>920</td>\n",
       "      <td>riyo_bartender</td>\n",
       "      <td>https://shopee.co.id/shop/259467690</td>\n",
       "    </tr>\n",
       "    <tr>\n",
       "      <th>915</th>\n",
       "      <td>921</td>\n",
       "      <td>nurrofiyani</td>\n",
       "      <td>https://shopee.co.id/shop/139831961</td>\n",
       "    </tr>\n",
       "    <tr>\n",
       "      <th>916</th>\n",
       "      <td>922</td>\n",
       "      <td>hafizhop15</td>\n",
       "      <td>https://shopee.co.id/shop/108642173</td>\n",
       "    </tr>\n",
       "  </tbody>\n",
       "</table>\n",
       "<p>917 rows × 3 columns</p>\n",
       "</div>"
      ],
      "text/plain": [
       "     Unnamed: 0           username                            user_link\n",
       "0             0    fitriyani_s.n94  https://shopee.co.id/shop/337325976\n",
       "1             1       windymangase  https://shopee.co.id/shop/190360266\n",
       "2             2    wahyuammarullah   https://shopee.co.id/shop/11991832\n",
       "3             3        kucing_fika   https://shopee.co.id/shop/79242541\n",
       "4             4              zavwa  https://shopee.co.id/shop/407579102\n",
       "..          ...                ...                                  ...\n",
       "912         918  yuliyanah_sapitri  https://shopee.co.id/shop/284841683\n",
       "913         919         semburat86   https://shopee.co.id/shop/79228045\n",
       "914         920     riyo_bartender  https://shopee.co.id/shop/259467690\n",
       "915         921        nurrofiyani  https://shopee.co.id/shop/139831961\n",
       "916         922         hafizhop15  https://shopee.co.id/shop/108642173\n",
       "\n",
       "[917 rows x 3 columns]"
      ]
     },
     "execution_count": 5,
     "metadata": {},
     "output_type": "execute_result"
    }
   ],
   "source": [
    "df"
   ]
  },
  {
   "cell_type": "code",
   "execution_count": 6,
   "metadata": {},
   "outputs": [],
   "source": [
    "user_links = df['user_link'].to_list()"
   ]
  },
  {
   "cell_type": "code",
   "execution_count": 7,
   "metadata": {},
   "outputs": [],
   "source": [
    "username = df['username'].to_list()"
   ]
  },
  {
   "cell_type": "markdown",
   "metadata": {},
   "source": [
    "## OPEN SHOPEE DAN LOGIN"
   ]
  },
  {
   "cell_type": "code",
   "execution_count": 8,
   "metadata": {},
   "outputs": [],
   "source": [
    "# Options for Chrome windows\n",
    "options = webdriver.FirefoxOptions()\n",
    "options.add_argument(\"--start-maximized\")\n",
    "# options.add_argument('window-size=2560,1440')\n",
    "options.add_argument('disable-notifications')\n",
    "options.add_argument('--disable-infobars')\n",
    "# options.add_argument('start-maximized')\n",
    "\n",
    "# supaya gak muncul mozilla nya\n",
    "# options.add_argument('--headless')"
   ]
  },
  {
   "cell_type": "code",
   "execution_count": 9,
   "metadata": {},
   "outputs": [
    {
     "name": "stderr",
     "output_type": "stream",
     "text": [
      "[WDM] - \n",
      "\n",
      "[WDM] - ====== WebDriver manager ======\n",
      "[WDM] - Current firefox version is 93.0\n",
      "[WDM] - Get LATEST driver version for 93.0\n",
      "[WDM] - Driver [/home/juliustn/.wdm/drivers/geckodriver/linux64/v0.30.0/geckodriver] found in cache\n",
      "/tmp/ipykernel_66010/3883588893.py:1: DeprecationWarning: executable_path has been deprecated, please pass in a Service object\n",
      "  driver = webdriver.Firefox(executable_path=GeckoDriverManager().install(), options=options)\n",
      "/tmp/ipykernel_66010/3883588893.py:7: DeprecationWarning: find_element_by_* commands are deprecated. Please use find_element() instead\n",
      "  email_field = driver.find_element_by_name(\"loginKey\")\n",
      "/tmp/ipykernel_66010/3883588893.py:9: DeprecationWarning: find_element_by_* commands are deprecated. Please use find_element() instead\n",
      "  password_field = driver.find_element_by_name(\"password\")\n",
      "/tmp/ipykernel_66010/3883588893.py:21: DeprecationWarning: find_element_by_* commands are deprecated. Please use find_element() instead\n",
      "  verification_btn = driver.find_element_by_xpath('//button')\n"
     ]
    },
    {
     "name": "stdout",
     "output_type": "stream",
     "text": [
      "True\n"
     ]
    }
   ],
   "source": [
    "driver = webdriver.Firefox(executable_path=GeckoDriverManager().install(), options=options)\n",
    "driver.maximize_window()\n",
    "\n",
    "main_url = \"https://shopee.co.id/buyer/login?next=https%3A%2F%2Fshopee.co.id%2F\"\n",
    "driver.get(main_url)\n",
    "WebDriverWait(driver, 10).until(EC.visibility_of_any_elements_located((By.CSS_SELECTOR, '._3KEKx7')))\n",
    "email_field = driver.find_element_by_name(\"loginKey\")\n",
    "email_field.send_keys('081284530660')\n",
    "password_field = driver.find_element_by_name(\"password\")\n",
    "password_field.send_keys('Paul_0999')\n",
    "\n",
    "password_field.send_keys(Keys.RETURN)\n",
    "\n",
    "# login_btn = driver.find_element_by_xpath('//button[contains(text(), \"Log in\")]')\n",
    "# if(login_btn.is_enabled()):\n",
    "#     print(login_btn.is_enabled())\n",
    "#     login_btn.click()\n",
    "\n",
    "WebDriverWait(driver, 10).until(EC.visibility_of_any_elements_located((By.CSS_SELECTOR, '._13vxdj')))\n",
    "\n",
    "verification_btn = driver.find_element_by_xpath('//button')\n",
    "if(verification_btn.is_enabled()):\n",
    "    print(verification_btn.is_enabled())\n",
    "    verification_btn.click()\n",
    "\n",
    "# LOGIN MANUAL"
   ]
  },
  {
   "cell_type": "code",
   "execution_count": 10,
   "metadata": {},
   "outputs": [],
   "source": [
    "for user_href in user_links:\n",
    "    #open new window with specific href\n",
    "    driver.execute_script(\"window.open('\" +user_href +\"');\")\n",
    "    # switch to new window\n",
    "    driver.switch_to.window(driver.window_handles[1])\n",
    "\n",
    "    ### KLIK FOLLOW\n",
    "\n",
    "    try:\n",
    "        WebDriverWait(driver, 3).until(EC.element_to_be_clickable((By.XPATH,'//*[contains(text(), \"mengikuti\")]'))).click()\n",
    "#         print()\n",
    "        \n",
    "    except:\n",
    "        pass\n",
    "\n",
    "    #             follow_btn = WebDriverWait(driver, 10).until(EC.element_to_be_clickable((By.XPATH,'//*[contains(text(), \"ikuti\")]')))\n",
    "\n",
    "    #             if(follow_btn):\n",
    "    #                 follow_btn.click()\n",
    "\n",
    "\n",
    "\n",
    "    #close the new window\n",
    "    driver.close()\n",
    "    #back to main window\n",
    "    driver.switch_to.window(driver.window_handles[0])"
   ]
  }
 ],
 "metadata": {
  "kernelspec": {
   "display_name": "Python 3 (ipykernel)",
   "language": "python",
   "name": "python3"
  },
  "language_info": {
   "codemirror_mode": {
    "name": "ipython",
    "version": 3
   },
   "file_extension": ".py",
   "mimetype": "text/x-python",
   "name": "python",
   "nbconvert_exporter": "python",
   "pygments_lexer": "ipython3",
   "version": "3.9.7"
  }
 },
 "nbformat": 4,
 "nbformat_minor": 4
}
