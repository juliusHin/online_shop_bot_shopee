{
 "cells": [
  {
   "cell_type": "markdown",
   "metadata": {
    "collapsed": true,
    "pycharm": {
     "name": "#%% md\n"
    }
   },
   "source": [
    "## IMPORT MODULES\n"
   ]
  },
  {
   "cell_type": "code",
   "execution_count": 2,
   "metadata": {
    "pycharm": {
     "name": "#%%\n"
    }
   },
   "outputs": [],
   "source": [
    "# Modules for web scraping\n",
    "from bs4 import BeautifulSoup\n",
    "from selenium import webdriver\n",
    "from selenium.webdriver.common.action_chains import ActionChains\n",
    "# URL encoding\n",
    "from requests.utils import requote_uri\n",
    "# Module for data manipulation\n",
    "import pandas as pd\n",
    "# Module for regular expression\n",
    "import re\n",
    "# Module for file management\n",
    "import os\n",
    "# Module for timing\n",
    "import time\n",
    "from selenium.common.exceptions import TimeoutException\n",
    "from selenium.webdriver.common.by import By\n",
    "from selenium.webdriver.support.ui import WebDriverWait\n",
    "from selenium.webdriver.support import expected_conditions as EC\n",
    "\n"
   ]
  },
  {
   "cell_type": "markdown",
   "metadata": {},
   "source": [
    "**Geckodriver path**"
   ]
  },
  {
   "cell_type": "code",
   "execution_count": 3,
   "metadata": {
    "pycharm": {
     "name": "#%%\n"
    }
   },
   "outputs": [],
   "source": [
    "# Options for Chrome windows\n",
    "options = webdriver.FirefoxOptions()\n",
    "options.add_argument(\"--start-maximized\")\n",
    "options.add_argument('window-size=2560,1440')\n",
    "options.add_argument('disable-notifications')\n",
    "options.add_argument('--disable-infobars')\n",
    "options.add_argument('start-maximized')\n",
    "\n",
    "# supaya gak muncul mozilla nya\n",
    "# options.add_argument('--headless')\n"
   ]
  },
  {
   "cell_type": "code",
   "execution_count": 4,
   "metadata": {
    "pycharm": {
     "name": "#%%\n"
    }
   },
   "outputs": [],
   "source": [
    "DRIVER_PATH = 'geckodriver'\n",
    "driver = webdriver.Chrome(executable_path = DRIVER_PATH,options=options)"
   ]
  },
  {
   "cell_type": "markdown",
   "metadata": {},
   "source": [
    "---"
   ]
  },
  {
   "cell_type": "markdown",
   "metadata": {},
   "source": [
    "**URL and Query**"
   ]
  },
  {
   "cell_type": "code",
   "execution_count": 6,
   "metadata": {
    "pycharm": {
     "name": "#%%\n"
    }
   },
   "outputs": [],
   "source": [
    "main_url = 'https://shopee.co.id'\n",
    "# url = 'https://shopee.co.id/search?keyword='\n",
    "url='https://shopee.co.id/shop/737390/search'\n",
    "seller = 'headset'\n",
    "query_encode = requote_uri(seller.strip('').lower())\n",
    "url_query = url + query_encode\n",
    "dir_path = os.getcwd()"
   ]
  },
  {
   "cell_type": "markdown",
   "metadata": {},
   "source": [
    "**Access website**"
   ]
  },
  {
   "cell_type": "code",
   "execution_count": 7,
   "metadata": {
    "pycharm": {
     "name": "#%%\n"
    }
   },
   "outputs": [
    {
     "data": {
      "text/plain": [
       "<selenium.webdriver.remote.webelement.WebElement (session=\"06333bdd-c90b-4c11-9707-f6424c17c86d\", element=\"e658ef36-8732-4df5-9426-e6a45e0e3725\")>"
      ]
     },
     "execution_count": 7,
     "metadata": {},
     "output_type": "execute_result"
    }
   ],
   "source": [
    "driver.get(url)\n",
    "WebDriverWait(driver, 30).until(EC.presence_of_element_located((By.CSS_SELECTOR, '.shop-search-result-view')))\n",
    "# driver.implicitly_wait(20)"
   ]
  },
  {
   "cell_type": "code",
   "execution_count": 8,
   "metadata": {
    "pycharm": {
     "name": "#%%\n"
    }
   },
   "outputs": [
    {
     "data": {
      "text/plain": [
       "2447"
      ]
     },
     "execution_count": 8,
     "metadata": {},
     "output_type": "execute_result"
    }
   ],
   "source": [
    "# get scroll heigh\n",
    "scroll_height = driver.execute_script('return document.documentElement.scrollHeight;')\n",
    "scroll_height"
   ]
  },
  {
   "cell_type": "code",
   "execution_count": 9,
   "metadata": {
    "pycharm": {
     "name": "#%%\n"
    }
   },
   "outputs": [],
   "source": [
    "# Scroll down slowly\n",
    "scroll_height = driver.execute_script('return document.documentElement.scrollHeight;')\n",
    "for iter in range(0,scroll_height,200):\n",
    "    driver.execute_script('window.scrollTo(0, {});'.format(iter))\n",
    "    time.sleep(1.5)"
   ]
  },
  {
   "cell_type": "code",
   "execution_count": 10,
   "metadata": {
    "pycharm": {
     "name": "#%%\n"
    }
   },
   "outputs": [],
   "source": [
    "product_category_search = driver.find_element_by_css_selector('.shopee-shop-collection-filter__body')"
   ]
  },
  {
   "cell_type": "code",
   "execution_count": 11,
   "metadata": {
    "pycharm": {
     "name": "#%%\n"
    }
   },
   "outputs": [
    {
     "data": {
      "text/plain": [
       "['Semua Produk',\n",
       " 'Perawatan & Kecantikan',\n",
       " 'Dapur',\n",
       " 'Kamar Mandi',\n",
       " 'Rumah Tangga',\n",
       " 'Dekorasi']"
      ]
     },
     "execution_count": 11,
     "metadata": {},
     "output_type": "execute_result"
    }
   ],
   "source": [
    "product_category=[]\n",
    "items = product_category_search.find_elements_by_css_selector('div')\n",
    "for element in items:\n",
    "    category_name = element.text\n",
    "    product_category.append(category_name)\n",
    "\n",
    "product_category\n",
    "# items"
   ]
  },
  {
   "cell_type": "markdown",
   "metadata": {},
   "source": [
    "### COBA SCRAPE PER-PRODUCT"
   ]
  },
  {
   "cell_type": "code",
   "execution_count": 18,
   "metadata": {
    "pycharm": {
     "name": "#%%\n"
    }
   },
   "outputs": [],
   "source": [
    "product_list = []\n",
    "\n",
    "def scrape_detail_product_page(product_link):\n",
    "\n",
    "    # bag_url = 'https://shopee.co.id/Jims-Honey-Aishiteru-Mini-Bag-Tas-Dompet-Wanita-i.17074378.5836625439'\n",
    "    driver.get(product_link)\n",
    "\n",
    "    WebDriverWait(driver, 20).until(EC.visibility_of_element_located((By.CLASS_NAME, \"container\")))\n",
    "\n",
    "    scroll_height = driver.execute_script('return document.documentElement.scrollHeight;')\n",
    "    for iter in range(0,scroll_height,200):\n",
    "        driver.execute_script('window.scrollTo(0, {});'.format(iter))\n",
    "        time.sleep(1.5)\n",
    "\n",
    "    products = driver.find_element_by_css_selector('div.container')\n",
    "\n",
    "    price_before_disc = \"null\"\n",
    "    \n",
    "    name = products.find_element_by_xpath('//div[@class=\"attM6y\"]').text\n",
    "    # products.find_element\n",
    "    if(products.find_element_by_xpath('//div[@class=\"_2MaBXe\"]')):\n",
    "        price_before_disc = products.find_element_by_xpath('//div[@class=\"_2MaBXe\"]').text\n",
    "    price_after_dics = products.find_element_by_xpath('//div[@class=\"Ybrg9j\"]').text\n",
    "    description = products.find_element_by_xpath('//div[@class=\"_2u0jt9\"]/span').text\n",
    "    stock = products.find_element_by_xpath('//*[@id=\"main\"]/div/div[2]/div[2]/div[2]/div[1]/div[3]/div/div[4]/div/div[3]/div/div[2]/div[2]/div[2]').text\n",
    "    # weight = products.find_element_by_xpath('')\n",
    "    variants = products.find_elements_by_xpath('//button[@class=\"product-variation\"]')\n",
    "#     img_urls = products.find_elements_by_xpath('//div[@class=\"_2MDwq_\"]')\n",
    "    rating= products.find_element_by_xpath('//div[@class=\"OitLRu\"]').text\n",
    "    sold_qty = products.find_element_by_xpath('//div[@class=\"aca9MM\"]').text\n",
    "\n",
    "\n",
    "    product_list.append({\n",
    "        'name':name,\n",
    "        'price_before_disc': price_before_disc,\n",
    "        'price_after_disc': price_after_dics,\n",
    "        'description':description,\n",
    "        'variants':[variant.text for variant in variants],\n",
    "        'url_product': product_link,\n",
    "        'ratings': rating,\n",
    "        'sold_qty': sold_qty,\n",
    "        # 'img_urls':[img_url.find_elements_by_class_name('_2Fw7Qu V1Fpl5').__getattribute__(\"background-image\") for img_url in img_urls]\n",
    "    })\n"
   ]
  },
  {
   "cell_type": "code",
   "execution_count": 16,
   "metadata": {
    "pycharm": {
     "name": "#%%\n"
    }
   },
   "outputs": [],
   "source": [
    "category_dict = {\n",
    "    'perawatan_kecantikan':\n",
    "    'https://shopee.co.id/shop/737390/search?page=0&shopCollection=5915058',\n",
    "    'dapur':'https://shopee.co.id/shop/737390/search?page=0&shopCollection=5915095',\n",
    "    'kamar_mandi': 'https://shopee.co.id/shop/737390/search?page=0&shopCollection=5915099',\n",
    "    'rumah_tangga': 'https://shopee.co.id/shop/737390/search?page=0&shopCollection=5915100',\n",
    "    'dekorasi':'https://shopee.co.id/shop/737390/search?page=0&shopCollection=5915180',\n",
    "    \n",
    "}\n"
   ]
  },
  {
   "cell_type": "markdown",
   "metadata": {
    "pycharm": {
     "name": "#%% md\n"
    }
   },
   "source": [
    "### FUNCTION UNTUK KLIK PER ITEM"
   ]
  },
  {
   "cell_type": "code",
   "execution_count": 19,
   "metadata": {
    "pycharm": {
     "name": "#%%\n"
    }
   },
   "outputs": [
    {
     "name": "stdout",
     "output_type": "stream",
     "text": [
      "https://shopee.co.id/Penahan-Poni-Hair-Velcro-Rambut-Korean-Style-Jepang-salon-aksesoris-X184-i.737390.127500334?position=0\n"
     ]
    },
    {
     "ename": "NoSuchElementException",
     "evalue": "Message: Unable to locate element: //div[@class=\"_2MaBXe\"]\n",
     "output_type": "error",
     "traceback": [
      "\u001b[0;31m---------------------------------------------------------------------------\u001b[0m",
      "\u001b[0;31mNoSuchElementException\u001b[0m                    Traceback (most recent call last)",
      "\u001b[0;32m/tmp/ipykernel_11239/3576841684.py\u001b[0m in \u001b[0;36m<module>\u001b[0;34m\u001b[0m\n\u001b[1;32m     24\u001b[0m         \u001b[0;31m#......now you are on the new window, scrape here\u001b[0m\u001b[0;34m\u001b[0m\u001b[0;34m\u001b[0m\u001b[0m\n\u001b[1;32m     25\u001b[0m         \u001b[0;31m#example to scrape 'title' in the new window\u001b[0m\u001b[0;34m\u001b[0m\u001b[0;34m\u001b[0m\u001b[0m\n\u001b[0;32m---> 26\u001b[0;31m         \u001b[0mscrape_detail_product_page\u001b[0m\u001b[0;34m(\u001b[0m\u001b[0mhref\u001b[0m\u001b[0;34m)\u001b[0m\u001b[0;34m\u001b[0m\u001b[0;34m\u001b[0m\u001b[0m\n\u001b[0m\u001b[1;32m     27\u001b[0m \u001b[0;34m\u001b[0m\u001b[0m\n\u001b[1;32m     28\u001b[0m \u001b[0;34m\u001b[0m\u001b[0m\n",
      "\u001b[0;32m/tmp/ipykernel_11239/2142357501.py\u001b[0m in \u001b[0;36mscrape_detail_product_page\u001b[0;34m(product_link)\u001b[0m\n\u001b[1;32m     19\u001b[0m     \u001b[0mname\u001b[0m \u001b[0;34m=\u001b[0m \u001b[0mproducts\u001b[0m\u001b[0;34m.\u001b[0m\u001b[0mfind_element_by_xpath\u001b[0m\u001b[0;34m(\u001b[0m\u001b[0;34m'//div[@class=\"attM6y\"]'\u001b[0m\u001b[0;34m)\u001b[0m\u001b[0;34m.\u001b[0m\u001b[0mtext\u001b[0m\u001b[0;34m\u001b[0m\u001b[0;34m\u001b[0m\u001b[0m\n\u001b[1;32m     20\u001b[0m     \u001b[0;31m# products.find_element\u001b[0m\u001b[0;34m\u001b[0m\u001b[0;34m\u001b[0m\u001b[0m\n\u001b[0;32m---> 21\u001b[0;31m     \u001b[0;32mif\u001b[0m\u001b[0;34m(\u001b[0m\u001b[0mproducts\u001b[0m\u001b[0;34m.\u001b[0m\u001b[0mfind_element_by_xpath\u001b[0m\u001b[0;34m(\u001b[0m\u001b[0;34m'//div[@class=\"_2MaBXe\"]'\u001b[0m\u001b[0;34m)\u001b[0m\u001b[0;34m)\u001b[0m\u001b[0;34m:\u001b[0m\u001b[0;34m\u001b[0m\u001b[0;34m\u001b[0m\u001b[0m\n\u001b[0m\u001b[1;32m     22\u001b[0m         \u001b[0mprice_before_disc\u001b[0m \u001b[0;34m=\u001b[0m \u001b[0mproducts\u001b[0m\u001b[0;34m.\u001b[0m\u001b[0mfind_element_by_xpath\u001b[0m\u001b[0;34m(\u001b[0m\u001b[0;34m'//div[@class=\"_2MaBXe\"]'\u001b[0m\u001b[0;34m)\u001b[0m\u001b[0;34m.\u001b[0m\u001b[0mtext\u001b[0m\u001b[0;34m\u001b[0m\u001b[0;34m\u001b[0m\u001b[0m\n\u001b[1;32m     23\u001b[0m     \u001b[0mprice_after_dics\u001b[0m \u001b[0;34m=\u001b[0m \u001b[0mproducts\u001b[0m\u001b[0;34m.\u001b[0m\u001b[0mfind_element_by_xpath\u001b[0m\u001b[0;34m(\u001b[0m\u001b[0;34m'//div[@class=\"Ybrg9j\"]'\u001b[0m\u001b[0;34m)\u001b[0m\u001b[0;34m.\u001b[0m\u001b[0mtext\u001b[0m\u001b[0;34m\u001b[0m\u001b[0;34m\u001b[0m\u001b[0m\n",
      "\u001b[0;32m~/.local/lib/python3.9/site-packages/selenium/webdriver/remote/webelement.py\u001b[0m in \u001b[0;36mfind_element_by_xpath\u001b[0;34m(self, xpath)\u001b[0m\n\u001b[1;32m    349\u001b[0m             \u001b[0melement\u001b[0m \u001b[0;34m=\u001b[0m \u001b[0melement\u001b[0m\u001b[0;34m.\u001b[0m\u001b[0mfind_element_by_xpath\u001b[0m\u001b[0;34m(\u001b[0m\u001b[0;34m'//div/td[1]'\u001b[0m\u001b[0;34m)\u001b[0m\u001b[0;34m\u001b[0m\u001b[0;34m\u001b[0m\u001b[0m\n\u001b[1;32m    350\u001b[0m         \"\"\"\n\u001b[0;32m--> 351\u001b[0;31m         \u001b[0;32mreturn\u001b[0m \u001b[0mself\u001b[0m\u001b[0;34m.\u001b[0m\u001b[0mfind_element\u001b[0m\u001b[0;34m(\u001b[0m\u001b[0mby\u001b[0m\u001b[0;34m=\u001b[0m\u001b[0mBy\u001b[0m\u001b[0;34m.\u001b[0m\u001b[0mXPATH\u001b[0m\u001b[0;34m,\u001b[0m \u001b[0mvalue\u001b[0m\u001b[0;34m=\u001b[0m\u001b[0mxpath\u001b[0m\u001b[0;34m)\u001b[0m\u001b[0;34m\u001b[0m\u001b[0;34m\u001b[0m\u001b[0m\n\u001b[0m\u001b[1;32m    352\u001b[0m \u001b[0;34m\u001b[0m\u001b[0m\n\u001b[1;32m    353\u001b[0m     \u001b[0;32mdef\u001b[0m \u001b[0mfind_elements_by_xpath\u001b[0m\u001b[0;34m(\u001b[0m\u001b[0mself\u001b[0m\u001b[0;34m,\u001b[0m \u001b[0mxpath\u001b[0m\u001b[0;34m)\u001b[0m\u001b[0;34m:\u001b[0m\u001b[0;34m\u001b[0m\u001b[0;34m\u001b[0m\u001b[0m\n",
      "\u001b[0;32m~/.local/lib/python3.9/site-packages/selenium/webdriver/remote/webelement.py\u001b[0m in \u001b[0;36mfind_element\u001b[0;34m(self, by, value)\u001b[0m\n\u001b[1;32m    656\u001b[0m                 \u001b[0mvalue\u001b[0m \u001b[0;34m=\u001b[0m \u001b[0;34m'[name=\"%s\"]'\u001b[0m \u001b[0;34m%\u001b[0m \u001b[0mvalue\u001b[0m\u001b[0;34m\u001b[0m\u001b[0;34m\u001b[0m\u001b[0m\n\u001b[1;32m    657\u001b[0m \u001b[0;34m\u001b[0m\u001b[0m\n\u001b[0;32m--> 658\u001b[0;31m         return self._execute(Command.FIND_CHILD_ELEMENT,\n\u001b[0m\u001b[1;32m    659\u001b[0m                              {\"using\": by, \"value\": value})['value']\n\u001b[1;32m    660\u001b[0m \u001b[0;34m\u001b[0m\u001b[0m\n",
      "\u001b[0;32m~/.local/lib/python3.9/site-packages/selenium/webdriver/remote/webelement.py\u001b[0m in \u001b[0;36m_execute\u001b[0;34m(self, command, params)\u001b[0m\n\u001b[1;32m    631\u001b[0m             \u001b[0mparams\u001b[0m \u001b[0;34m=\u001b[0m \u001b[0;34m{\u001b[0m\u001b[0;34m}\u001b[0m\u001b[0;34m\u001b[0m\u001b[0;34m\u001b[0m\u001b[0m\n\u001b[1;32m    632\u001b[0m         \u001b[0mparams\u001b[0m\u001b[0;34m[\u001b[0m\u001b[0;34m'id'\u001b[0m\u001b[0;34m]\u001b[0m \u001b[0;34m=\u001b[0m \u001b[0mself\u001b[0m\u001b[0;34m.\u001b[0m\u001b[0m_id\u001b[0m\u001b[0;34m\u001b[0m\u001b[0;34m\u001b[0m\u001b[0m\n\u001b[0;32m--> 633\u001b[0;31m         \u001b[0;32mreturn\u001b[0m \u001b[0mself\u001b[0m\u001b[0;34m.\u001b[0m\u001b[0m_parent\u001b[0m\u001b[0;34m.\u001b[0m\u001b[0mexecute\u001b[0m\u001b[0;34m(\u001b[0m\u001b[0mcommand\u001b[0m\u001b[0;34m,\u001b[0m \u001b[0mparams\u001b[0m\u001b[0;34m)\u001b[0m\u001b[0;34m\u001b[0m\u001b[0;34m\u001b[0m\u001b[0m\n\u001b[0m\u001b[1;32m    634\u001b[0m \u001b[0;34m\u001b[0m\u001b[0m\n\u001b[1;32m    635\u001b[0m     \u001b[0;32mdef\u001b[0m \u001b[0mfind_element\u001b[0m\u001b[0;34m(\u001b[0m\u001b[0mself\u001b[0m\u001b[0;34m,\u001b[0m \u001b[0mby\u001b[0m\u001b[0;34m=\u001b[0m\u001b[0mBy\u001b[0m\u001b[0;34m.\u001b[0m\u001b[0mID\u001b[0m\u001b[0;34m,\u001b[0m \u001b[0mvalue\u001b[0m\u001b[0;34m=\u001b[0m\u001b[0;32mNone\u001b[0m\u001b[0;34m)\u001b[0m\u001b[0;34m:\u001b[0m\u001b[0;34m\u001b[0m\u001b[0;34m\u001b[0m\u001b[0m\n",
      "\u001b[0;32m~/.local/lib/python3.9/site-packages/selenium/webdriver/remote/webdriver.py\u001b[0m in \u001b[0;36mexecute\u001b[0;34m(self, driver_command, params)\u001b[0m\n\u001b[1;32m    319\u001b[0m         \u001b[0mresponse\u001b[0m \u001b[0;34m=\u001b[0m \u001b[0mself\u001b[0m\u001b[0;34m.\u001b[0m\u001b[0mcommand_executor\u001b[0m\u001b[0;34m.\u001b[0m\u001b[0mexecute\u001b[0m\u001b[0;34m(\u001b[0m\u001b[0mdriver_command\u001b[0m\u001b[0;34m,\u001b[0m \u001b[0mparams\u001b[0m\u001b[0;34m)\u001b[0m\u001b[0;34m\u001b[0m\u001b[0;34m\u001b[0m\u001b[0m\n\u001b[1;32m    320\u001b[0m         \u001b[0;32mif\u001b[0m \u001b[0mresponse\u001b[0m\u001b[0;34m:\u001b[0m\u001b[0;34m\u001b[0m\u001b[0;34m\u001b[0m\u001b[0m\n\u001b[0;32m--> 321\u001b[0;31m             \u001b[0mself\u001b[0m\u001b[0;34m.\u001b[0m\u001b[0merror_handler\u001b[0m\u001b[0;34m.\u001b[0m\u001b[0mcheck_response\u001b[0m\u001b[0;34m(\u001b[0m\u001b[0mresponse\u001b[0m\u001b[0;34m)\u001b[0m\u001b[0;34m\u001b[0m\u001b[0;34m\u001b[0m\u001b[0m\n\u001b[0m\u001b[1;32m    322\u001b[0m             response['value'] = self._unwrap_value(\n\u001b[1;32m    323\u001b[0m                 response.get('value', None))\n",
      "\u001b[0;32m~/.local/lib/python3.9/site-packages/selenium/webdriver/remote/errorhandler.py\u001b[0m in \u001b[0;36mcheck_response\u001b[0;34m(self, response)\u001b[0m\n\u001b[1;32m    240\u001b[0m                 \u001b[0malert_text\u001b[0m \u001b[0;34m=\u001b[0m \u001b[0mvalue\u001b[0m\u001b[0;34m[\u001b[0m\u001b[0;34m'alert'\u001b[0m\u001b[0;34m]\u001b[0m\u001b[0;34m.\u001b[0m\u001b[0mget\u001b[0m\u001b[0;34m(\u001b[0m\u001b[0;34m'text'\u001b[0m\u001b[0;34m)\u001b[0m\u001b[0;34m\u001b[0m\u001b[0;34m\u001b[0m\u001b[0m\n\u001b[1;32m    241\u001b[0m             \u001b[0;32mraise\u001b[0m \u001b[0mexception_class\u001b[0m\u001b[0;34m(\u001b[0m\u001b[0mmessage\u001b[0m\u001b[0;34m,\u001b[0m \u001b[0mscreen\u001b[0m\u001b[0;34m,\u001b[0m \u001b[0mstacktrace\u001b[0m\u001b[0;34m,\u001b[0m \u001b[0malert_text\u001b[0m\u001b[0;34m)\u001b[0m\u001b[0;34m\u001b[0m\u001b[0;34m\u001b[0m\u001b[0m\n\u001b[0;32m--> 242\u001b[0;31m         \u001b[0;32mraise\u001b[0m \u001b[0mexception_class\u001b[0m\u001b[0;34m(\u001b[0m\u001b[0mmessage\u001b[0m\u001b[0;34m,\u001b[0m \u001b[0mscreen\u001b[0m\u001b[0;34m,\u001b[0m \u001b[0mstacktrace\u001b[0m\u001b[0;34m)\u001b[0m\u001b[0;34m\u001b[0m\u001b[0;34m\u001b[0m\u001b[0m\n\u001b[0m\u001b[1;32m    243\u001b[0m \u001b[0;34m\u001b[0m\u001b[0m\n\u001b[1;32m    244\u001b[0m     \u001b[0;32mdef\u001b[0m \u001b[0m_value_or_default\u001b[0m\u001b[0;34m(\u001b[0m\u001b[0mself\u001b[0m\u001b[0;34m,\u001b[0m \u001b[0mobj\u001b[0m\u001b[0;34m,\u001b[0m \u001b[0mkey\u001b[0m\u001b[0;34m,\u001b[0m \u001b[0mdefault\u001b[0m\u001b[0;34m)\u001b[0m\u001b[0;34m:\u001b[0m\u001b[0;34m\u001b[0m\u001b[0;34m\u001b[0m\u001b[0m\n",
      "\u001b[0;31mNoSuchElementException\u001b[0m: Message: Unable to locate element: //div[@class=\"_2MaBXe\"]\n"
     ]
    }
   ],
   "source": [
    "for x in category_dict:\n",
    "    driver.get(category_dict[x])\n",
    "    elements = WebDriverWait(driver, 30).until(EC.visibility_of_all_elements_located((By.XPATH, '//div[@class=\"shop-search-result-view\"]//div/a')))\n",
    "\n",
    "    scroll_height = driver.execute_script('return document.documentElement.scrollHeight;')\n",
    "    # scroll_height = driver.execute_script('return document.documentElement.scrollHeight;')\n",
    "\n",
    "    for iter in range(0,scroll_height,200):\n",
    "        driver.execute_script('window.scrollTo(0, {});'.format(iter))\n",
    "        time.sleep(1.5)\n",
    "\n",
    "\n",
    "    # products = driver.find_elements_by_css_selector('.shop-search-result-view__item')\n",
    "    for element in elements:\n",
    "        #get href\n",
    "        href = element.get_attribute('href')\n",
    "        print(href)\n",
    "        #open new window with specific href\n",
    "        driver.execute_script(\"window.open('\" +href +\"');\")\n",
    "        # switch to new window\n",
    "        driver.switch_to.window(driver.window_handles[1])\n",
    "\n",
    "\n",
    "        #......now you are on the new window, scrape here\n",
    "        #example to scrape 'title' in the new window\n",
    "        scrape_detail_product_page(href)\n",
    "\n",
    "\n",
    "        #close the new window\n",
    "        driver.close()\n",
    "        #back to main window\n",
    "        driver.switch_to.window(driver.window_handles[0])"
   ]
  },
  {
   "cell_type": "code",
   "execution_count": 37,
   "metadata": {
    "pycharm": {
     "name": "#%%\n"
    }
   },
   "outputs": [
    {
     "data": {
      "text/plain": [
       "[{'name': 'Jims Honey - Aishiteru Mini Bag Tas Dompet Wanita',\n",
       "  'price_before_disc': 'Rp150.000',\n",
       "  'price_after_disc': 'Rp84.000',\n",
       "  'description': 'Introducing Aishiteru Mini Sling Bag from Jims Honey. Mini bag yang imut nan lucu dengan pattern stripe diseluruh permukaan tas\\nBentuknya yang portrait / vertikal, menjadikannya ramping secara estetika, namun tetap leluasa dalam hal fungsionalitas. Aishiteru bag cocok untuk tempat gadget, buku notes atau pernik kecil lainnya. Ladies, lengkapi koleksi tas Jims Honey mu. This one is another precious catch\\n\\nTersedia 2 Sekat Besar Muat HP Dan Uang Kertas\\nTersedia 1 Resleting Pocket Besar Muat Uang Kertas\\nTersedia 4 Slot Kartu\\nLengkap Tali Panjang, Bisa Dijadikan Selempang\\nFull Bordir Disekeliling Dompet\\nMaterial : Kulit Sintestis\\nUkuran 18.5 x 11 x 4 cm\\nBerat : 200gr\\n\\nBelanja Lebih Cepat, Mudah Dan Nyaman Di Toko Jims Honey Official ^^',\n",
       "  'variants': ['Black', 'Navy', 'Grey', 'Red', 'Yellow'],\n",
       "  'url_product': 'https://shopee.co.id/Jims-Honey-Aishiteru-Mini-Bag-Tas-Dompet-Wanita-i.17074378.5836625439'},\n",
       " {'name': 'Jims Honey - Sally Mini Bag Tas Wanita Sling Bag',\n",
       "  'price_before_disc': 'Rp180.000',\n",
       "  'price_after_disc': 'Rp110.000',\n",
       "  'description': 'Introducing Sally Mini Bag from Jims Honey. Tas mungil imut nan lucu cocok banget buat kamu yang unyu unyu. Sally mini bag memiliki 1 ruang penyimpanan utama + 1 sekat besar untuk tempat penyimpanan HP\\n.\\nSally mini bag juga dilengkapi dengan tali panjang + ornamen sticker yang unyu unyu. Sally mini bag menggunakan material bahan terbaik dikelasnya, kuat dan kokoh untuk memastikan tingkat durabilitas tinggi \\n.\\nSo ladies, what are you waiting for? yukkk order Sally Mini Bag sekarang juga\\nSpesifkasi Produk :\\nBrand : Jims Honey\\nTersedia 1 Ruang Penyimpanan Utama\\nTersedia 1 Sekat Ruang Untuk Penyimpanan HP\\nLengkap Tali Panjang (Bisa Di Adjust)\\nMaterial : Kulit Sintestis Grade A\\nUkuran : 20 x 10 x 6 cm\\n\\nBelanja Lebih Cepat, Mudah Dan Nyaman Hanya Di Toko Jims Honey Official ^^',\n",
       "  'variants': [],\n",
       "  'url_product': 'https://shopee.co.id/Jims-Honey-Sally-Mini-Bag-Tas-Wanita-Sling-Bag-i.17074378.7805580467'},\n",
       " {'name': 'Jims Honey - Kathrin Bag Tas Wanita Import',\n",
       "  'price_before_disc': 'Rp250.000',\n",
       "  'price_after_disc': 'Rp160.000',\n",
       "  'description': \"Introducing Kathrin Bag from Jims Honey, tas stylish minimalis dengan checkerboard pattern pada bagian depannya\\n.\\nDengan 2 sekat ruang besar, Kathrin Bag dijamin bisa mengorganisir barang bawaanmu dengan sempurna\\n.\\nTerdapat 1 ruang di bagian tengah tas + 1 ruang kecil dengan resleting serta 1 slot didalam tas, bikin kamu ga ribet untuk menjangkau barang bawaanmu, bahkan untuk barang dengan ukuran terkecil sekalipun \\n.\\nKathrin Bag memiliki 2 tali (panjang dan pendek) it's up to you now, carry it your way :)\\n\\nSpesifikasi Produk :\\nBrand : Jims Honey\\nTersedia 2 Ruang Penyimpanan Besar\\nTersedia 1 Resleting Pocket Besar\\nTersedia 1 Resleting Pocket Kecil\\nTersedia 1 Pocket Kecil\\nMaterial : PU Leather Grade A\\nLengkap Tali Pendek Dan Tali Panjang\\nUkuran : 18 x 10 x 19cm\\n\\nBelanja Lebih Cepat, Mudah Dan Nyaman Hanya Di Jims Honey Official Store :) \",\n",
       "  'variants': ['Navy', 'White', 'Pink', 'Grey', 'Green', 'Maroon'],\n",
       "  'url_product': 'https://shopee.co.id/Jims-Honey-Kathrin-Bag-Tas-Wanita-Import-i.17074378.2797277080'},\n",
       " {'name': 'Jims Honey - Karen Bag Tas Wanita Selempang',\n",
       "  'price_before_disc': 'Rp320.000',\n",
       "  'price_after_disc': 'Rp189.000',\n",
       "  'description': 'The true meaning of elegant has finally arrived. Ladies, introducing Karen Bag from Jims Honey.\\nTas dengan design eksklusif dengan bahan kulit sintetis Grade A . Tas elegant bergaya design tas eropa dengan bobot yang sangat ringan (hanya 625 gram).\\nKaren Bag dengan ukuran 31,5 cm x 18,5 cm sangat cocok untuk kamu yang menyukai tas besar .\\n\\nSpesifikasi Produk : \\nBrand : Jims Honey \\nTersedia 1 Ruang Penyimpanan Besar\\nTersedia 1 Resleting Pocket Besar\\nTersedia 2 Pocket Kecil\\nTersedia 1 Resleting Pocket Kecil\\nTersedia 1 Pocket Kecil Di Belakang\\nLengkap Tali Panjang Tas\\nMaterial : Kulit Sintestis Grade A\\nUkuran : 31.5 x 18.5 cm\\n\\nBelanja Lebih Cepat, Mudah Dan Nyaman Di Toko Jims Honey Official ^^',\n",
       "  'variants': ['Black', 'Navy', 'Red', 'Grey'],\n",
       "  'url_product': 'https://shopee.co.id/Jims-Honey-Karen-Bag-Tas-Wanita-Selempang-i.17074378.2117097253'},\n",
       " {'name': 'Jims Honey - Emily Sling Bag Tas Wanita Selempang Brand Original',\n",
       "  'price_before_disc': 'Rp220.000',\n",
       "  'price_after_disc': 'Rp144.000',\n",
       "  'description': 'Tampil menawan setiap saat dengan Jims Honey Emily Sling Bag. Kali ini, Jims Honey kembali menghadirkan series sling bag yang akan memberikan kesan baru dalam setiap tampilan Anda setiap hari. Tas dengan kesan mewah nan eksklusif, berbahan kulit sintestis grade A dengan perpaduan midili beludru, tekstur yang halus (velvety). Kehalusan dan kualitas midili yang tinggi membuatnya terkenal identik dengan kesan mewah dan kerap kali dipakai oleh para bangsawan pada abad ke 14 masehi.\\n\\nNyaman Digunakan\\nKali ini, sling bag dari Jims Honey hadir dengan design yang berbeda dari sebelumnya. Emily sling bag yang dipadukan dengan snap buttom (pengunci tas) menambahkan kesan manis pada element tas. Snap buttom pada Emily sling bag mengunci dengan rapat dan kencang. Dengan 1 ruang penyimpanan yang besar ditambah 2 sekat besar, kini Anda akan semakin mudah menginventori aksesoris-aksesoris bawaan Anda.\\n\\nPilihan Warna Terbaik\\nHadir dalam rangkaian warna-warna fashion : Black, Navy, Pink, Maroon, Grey & Bronze, Emily sling bag pastinya bisa menjadi sahabat untuk beragam aktivitas Anda sehari-hari. \\n\\nSpesifikasi Produk : \\nTersedia 1 Ruang Penyimpanan Besar\\nTersedia 2 Sekat Ruang Penyimpanan\\nTersedia 2 Pocket Kecil\\nTersedia 1 Resleting Pocket\\nSnap Buttom (Pengunci) Yang Rapat & Kencang\\nTali Panjang Tas Dapat Di Adjust\\nMaterial : Kulit Sintestis Dipadukan Bahan Midili Beludru\\nUkuran : 21 x 8 x 15 cm\\n\\nBelanja lebih cepat, mudah dan nyaman di Toko Official Jims Honey :)',\n",
       "  'variants': ['Grey', 'Bronze'],\n",
       "  'url_product': 'https://shopee.co.id/Jims-Honey-Emily-Sling-Bag-Tas-Wanita-Selempang-Brand-Original-i.17074378.828534250'},\n",
       " {'name': 'Jims Honey - Ivy Bag Tas Wanita Selempang',\n",
       "  'price_before_disc': 'Rp245.000',\n",
       "  'price_after_disc': 'Rp170.000',\n",
       "  'description': 'Introducing IVY BAG from Jims Honey. Dengan eksklusif design specially for you. Dengan bahan kulit sintetis yang terbaik di kelasnya dan memiliki berat hanya 680gr, ukuran 23 x 15 cm \\n\\nKeringanan yang sangat memungkinkan IVY BAG untuk menemani aktivitas harianmu, bisa kamu bawa ke kantor/kampus, dessert sore, nongkrong bersama teman teman atau bahkan menemanimu ke gala dinner. Sssttt... design minimalis dengan perpaduan rantai yang eksklusif, benar benar capturing attention, all eyes on you darling!\\n.\\nTerdapat 2 ruang besar penyimpanan dan 1 ruang yang dilengkapi dengan resleting + 1 slot ruang kecil. Panjang rantai tas +/- 58 cm\\n.\\nTersedia dalam 6 warna eksklusif: Brown , black, broken white, red, pink, navy\\n\\n\\nSpesifikasi Produk : \\nTersedia 2 Ruang Penyimpanan Besar\\nTersedia 1 Resleting Pocket Besar\\nTersedia 2 Pocket Kecil\\nTali Tas = Kombinasi Kulit Dan Rantai\\nUkuran : 22 x 5.5 x 15 cm\\nMaterial : PU Leather Grade A (Lebih Tebal Dan Awet)\\nWarna Luar dan Dalam = Sama\\n\\nBelanja Lebih Cepat, Mudah Dan Nyaman di Toko Official Jims Honey ^^',\n",
       "  'variants': [],\n",
       "  'url_product': 'https://shopee.co.id/Jims-Honey-Ivy-Bag-Tas-Wanita-Selempang-i.17074378.2058764892'},\n",
       " {'name': 'Jims Honey - Coco Sling Bag Tas Wanita Selempang Brand Original',\n",
       "  'price_before_disc': 'Rp220.000',\n",
       "  'price_after_disc': 'Rp150.000',\n",
       "  'description': 'AS PALING BEST SELLER , Lengkapi gayamu dengan clutch terbaru koleksi Jims Honey. Tali panjang yang flexible yang dapat dilepas. Dengan ukuran yang cukup besar yang dapat menampung berbagai barang bawaan Anda. Design yang simple ini sangat mudah dipadukan dengan gaya fashion sehari-hari Anda.\\nTersedia 5 pilihan warna : Black,Brown, Red, Navy & Grey. \\n\\nSpesifikasi Produk : \\n1 Ruang Penyimpanan Besar\\n1 Resleting Pocket\\nMaterial : PU Leather Grade A\\nUkuran : 26 x 18 x 5,5 cm\\nLengkap Tali Panjang\\nLengkap Gantungan Tas\\n\\nBelanja lebih cepat, mudah dan nyaman di Toko Official Jims Honey :)',\n",
       "  'variants': [],\n",
       "  'url_product': 'https://shopee.co.id/Jims-Honey-Coco-Sling-Bag-Tas-Wanita-Selempang-Brand-Original-i.17074378.157328901'},\n",
       " {'name': 'Jims Honey - Laura Bag Tas Wanita Selempang',\n",
       "  'price_before_disc': 'Rp250.000',\n",
       "  'price_after_disc': 'Rp170.000',\n",
       "  'description': 'Introducing Laura Bag from Jims Honey. Tas eksklusif dengan design estetik yang memukai. Menggunakan bahan kulit sintetis grade A yang terbaik di kelasnya untuk memastikan kamu mendapatkan tas dengan kualitas dan durability yang terbaik. Dengan size 22 x 23,5 cm, terdapat 2 ruangan besar di dalam dan 1 ruangan kecil di tengah yang dilengkapi dengan resleting\\n.\\nLaura Bag memiliki tali panjang sehingga bisa juga dijadikan sebagai sling bag. Available in 6 vibrant color: BLACK, BROWN, GREEN ARMY, NAVY, RED, GREY. Dengan durabilitas yang tinggi serta fungsionalitas yang maksimal, Jims Honey Laura Bag sangat siap untuk menemani aktivitas harianmu\\n.\\nGo get yours now, ladies!\\n\\n\\nSpesifikasi Produk : \\nBrand : Jims Honey \\nTersedia 2 Ruang Penyimpanan Besar\\nTersedia 1 Ruang Resleting Besar\\nTersedia 1 Resleting Pocket\\nTersedia 1 Slot Pocket \\nLengkap Tali Panjang\\nMaterial : Sintestis Grade A\\nUkuran : 22cm x 23.5cm\\n\\nBelanja Lebih Cepat, Mudah Dan Nyaman DI Toko Jims Honey Official ^^',\n",
       "  'variants': [],\n",
       "  'url_product': 'https://shopee.co.id/Jims-Honey-Laura-Bag-Tas-Wanita-Selempang-i.17074378.2136027497'},\n",
       " {'name': 'Jims Honey - Lady Saddle Bag Tas Selempang Wanita',\n",
       "  'price_before_disc': 'Rp200.000',\n",
       "  'price_after_disc': 'Rp104.000',\n",
       "  'description': 'Introducing Lady Saddle Bag from Jims Honey,\\ntas selempang yang terinspirasi dari sisi hype street wear dengan bahasa design yang classic dan elegan.\\nLady Saddle Bag memiliki varian warna dusty pastel yang menjadi ciri khas Jims Honey.\\nDengan tekstur bergelombang yang dinamis, Lady Saddle cocok dengan karaktermu yang unik.\\nSo ladies, lets catch this precious catch ;)\\n\\nDetails :\\nBrand : Jims Honey\\nTersedia 1 Ruang Penyimpanan Yang Besar\\nTersedia 1 Pocket Kecil Untuk Aksesoris\\nTersedia 1 Resleting Pocket\\nLengkap Tali Panjang Tas\\nMaterial : Kulit Sintestis\\nSize : 23 x 14 x 8 cm\\nBerat : 300 gr \\n\\nBelanja Lebih Cepat, Mudah, Dan Nyaman Hanya Di JimsHoney Official Store ^^',\n",
       "  'variants': ['Navy', 'Red'],\n",
       "  'url_product': 'https://shopee.co.id/Jims-Honey-Lady-Saddle-Bag-Tas-Selempang-Wanita-i.17074378.7712143027'},\n",
       " {'name': 'Jims Honey - Adeline Bag Tas Wanita Selempang',\n",
       "  'price_before_disc': 'Rp270.000',\n",
       "  'price_after_disc': 'Rp135.000',\n",
       "  'description': \"Introducing Jims Honey Adeline from Jims Honey. Tas cantik bergaya minimalis dengan perpaduan warna yang kontras. Berbahan kulit sintetis bertekstur dengan tingkat durabilitas yang terbaik dikelasnya.\\nAdeline bag memiliki 2 compartment besar untuk menyimpan kebutuhanmu + 1 ruang besar pada bagian tengah. Adeline memiliki 2 jenis tali yang berbeda ukuran, tali lebar yang nyaman untuk dijadikan sling bag + tali tipis nan padat yang nyaman digenggam sebagai tas jinjing.\\nDipermanis dengan ornamen gantungan pom pom menjadikan Adeline pilihan tas terbaikmu.\\nTunggu apalagi, ladies, let's catch this precious catch! .\\n\\nDetail Produk :\\nTersedia 2 Ruang Penyimpanan Besar\\nTersedia 1 Resleting Pocket Ukuran Besar\\nTersedia 1 Resleting Pocket Ukuran Kecil\\nTersedia 1 Pocket Kecil Untuk Aksesoris\\nLengkap 2 Tali Panjang (Tali Selempang Dan Tali Lebar)\\nLengkap Gantungan Tas\\nMaterial : Kulit Jeruk\\nSize : 660gr\\nUkuran : 21 x 22 x 11 cm\\n\\nBelanja Lebih Cepat, Mudah Dan Nyaman Hanya Di Jims Honey Official Store ^^\",\n",
       "  'variants': ['White', 'Red'],\n",
       "  'url_product': 'https://shopee.co.id/Jims-Honey-Adeline-Bag-Tas-Wanita-Selempang-i.17074378.3514824356'},\n",
       " {'name': 'Jims Honey - Ting Ting Sling Bag Tas Wanita Selempang Import Original',\n",
       "  'price_before_disc': 'Rp210.000',\n",
       "  'price_after_disc': 'Rp134.000',\n",
       "  'description': 'New collection dari Jims Honey, Ting Ting Sling Bag! Sling bag dengan design yang simple ini sangat nyaman digunakan untuk segala aktivitas Anda. Dengan menggunakan material kulit sintestis yang lembut, ting ting bag juga mudah dibersihkan jika kotor. Tampilan tas yang dipenuhi dengan manik-manik berwarna gold semakin memberikan kesan mewah pada tas. Selain itu, ting ting bag memiliki ruang penyimpanan yang cukup luas yang siap menampung semua barang bawaan Anda. Hadir dengan 6 varian warna, yaitu black, navy, softpink, hotpink, white dan softblue.\\n\\nSpesifikasi Produk : \\n1 Ruang Penyimpanan Besar\\n1 Resleting Pocket\\n2 Pocket Kecil Untuk HP\\n1 Resleting Pocket (Belakang Tas)\\nBahan Sintestis - Mudah Dibersihkan\\nUkuran : 23 x 8 x 18 cm\\n\\nBelanja lebih cepat, mudah dan nyaman di Toko Official Jims Honey :)',\n",
       "  'variants': ['Black', 'Navy', 'Softblue', 'Softpink', 'White'],\n",
       "  'url_product': 'https://shopee.co.id/Jims-Honey-Ting-Ting-Sling-Bag-Tas-Wanita-Selempang-Import-Original-i.17074378.157328822'},\n",
       " {'name': 'Jims Honey - Stella Bag Sling Bag Wanita Tas Selempang',\n",
       "  'price_before_disc': 'Rp320.000',\n",
       "  'price_after_disc': 'Rp173.000',\n",
       "  'description': 'Introducing Stella Bag from Jims Honey. Tas eksklusif dengan design estetik \\nMenggunakan bahan kulit sintetis grade A yang terbaik di kelasnya untuk memastikan kamu mendapatkan tas dengan kualitas dan durability yang terbaik\\n.\\nTerdapat 1 ruangan besar di dalam dan 2 ruangan kecil di samping dan di tengah yang dilengkapi dengan resleting\\n.\\nStella Bag didesign dengan tali panjang dengan strap kulit dan rantai pendek berkualitas sehingga bisa juga dijadikan sebagai sling bag dan bisa dijadikan shoulder bag \\n.\\nAvailable in 7 vibrant color: BLACK, NAVY, PURPLE, MINT, YELLOW MUSTARD, WHITE, PINK \\n.\\nDengan durabilitas yang tinggi serta fungsionalitas yang maksimal, Jims Honey Stella Bag sangat siap untuk menemani aktivitas harianmu\\nGo get yours now, ladies!\\n\\nSpesifikasi Produk : \\nBrand : Jims Honey \\nTersedia  1 Ruang Penyimpanan Besar \\nTersedia 1 Pocket Kecil Untuk Aksesoris\\nTersedia 1 Resleting Pocket \\nTerdapat Tali Rantai Pendek (Tidak Bisa DiLepas)\\nTerdapat 1 Tali Panjang Kulit (Bisa Di Lepas)\\nMaterial : Kulit Sintestis Grade A\\nUkuran : 23 x 18,5 x 6 cm\\n\\nBelanja Lebih Cepat, Mudah Dan Nyaman Hanya Di Toko Jims Honey Official ^^ ',\n",
       "  'variants': ['White', 'Yellow'],\n",
       "  'url_product': 'https://shopee.co.id/Jims-Honey-Stella-Bag-Sling-Bag-Wanita-Tas-Selempang-i.17074378.4762566257'},\n",
       " {'name': 'Jims Honey - Amour Bag Tas Selempang Wanita Terbaru',\n",
       "  'price_before_disc': 'Rp280.000',\n",
       "  'price_after_disc': 'Rp173.000',\n",
       "  'description': 'Introducing Amour bag, tas bertekstur dengan kombinasi 2 warna yang unik dari Jims Honey, serta dipadukan dengan aksesoris love semakin mempercantik tampilan Anda. Dengan 1 ruang besar dan sekat kecil untuk file-ing kertas dokumenmu + dilengkapi dengan tali panjang kombinasi rantai, membuat Amour bag menjadi pilihan yang paling tepat untuk style harianmu.\\nberat hanya 610 gram, sangat ringan untuk menemani kemanapun kamu pergi.\\nSo ladies, go get yours now.\\n\\nSpesifikasi Produk :\\nBrand : Jims Honey\\nTersedia 1 Ruang Penyimpanan Besar\\nTersedia 1 Resleting Pocket Kecil\\nTersedia 1 Pocket Kecil Untuk Aksesoris\\nMaterial : Kulit Sintestis Grade A\\nUkuran : 25 x 7 x 16 cm\\n\\nBelanja Lebih Cepat, Mudah Dan Nyaman Hanya Di Jims Honey Official Store^^',\n",
       "  'variants': ['Pink', 'Red'],\n",
       "  'url_product': 'https://shopee.co.id/Jims-Honey-Amour-Bag-Tas-Selempang-Wanita-Terbaru-i.17074378.4516922350'},\n",
       " {'name': 'Jims Honey - Valerie Bag Tas Wanita Sling Bag',\n",
       "  'price_before_disc': 'Rp285.000',\n",
       "  'price_after_disc': 'Rp144.000',\n",
       "  'description': 'Ladies, this is a MUST HAVE item from Jims Honey. Jims Honey Valerie, tas berbahan kulit sintetis grade A dengan design elegan memberikan kesan eksklusif\\n Dengan berat hanya 450 gram Valerie Bag bisa kamu bawa untuk meeting, tea time, dinner,party, dan hangout jadi lebih stylish dengan JIMS HONEY VALERIE  BAG\\n.\\nColor: Black, Navy, Maroon, Soft Pink, Yellow Mustard, Green, White\\n.\\nTerdapat 1 kompartment besar dengan twist lock design pada bagian dalam tas terdapat 1 sekat agar penempatan barang kesayangan kamu menjadi lebih terorganisir\\nterdapat 1 ruang kecil dengan resleting dibagian dalam tas \\nTali Panjang yang berkombinasi rantai dan kulit\\n.\\nGO GET YOUR SMART ELLEGANCE LOOK WITH VALERIE BAG\\n\\n.\\n.\\nSpesifikasi Produk : \\nBrand : Jims Honey\\nTersedia 1 Kompartmen Penyimpanan Besar\\nTersedia 1 Pocket Kecil Untuk Aksesoris Kecil\\nTersedia 1 Resleting Pocket Untuk Aksesoris Kecil\\nMaterial : Kulit Sintestis Grade A\\nPengunci : Twist Lock Design\\nTali Panjang : Kombinasi  Rantai Dan Kulit\\nUkuran : 23 x 9 x 18 cm\\n\\nBelanja Lebih Cepat, Mudah Dan Nyaman Hanya Di Toko Jims Honey Official ^^',\n",
       "  'variants': ['Black',\n",
       "   'Navy',\n",
       "   'Maroon',\n",
       "   'Pink',\n",
       "   'White',\n",
       "   'Yellow',\n",
       "   'Green (Ijo Lumut)'],\n",
       "  'url_product': 'https://shopee.co.id/Jims-Honey-Valerie-Bag-Tas-Wanita-Sling-Bag-i.17074378.6554870490'},\n",
       " {'name': 'Jims Honey - Vanessa Bag Tas Wanita Selempang',\n",
       "  'price_before_disc': 'Rp250.000',\n",
       "  'price_after_disc': 'Rp144.000',\n",
       "  'description': 'Introducing Vanessa Bag, a bag by Jimshoney. Terinspirasi dari bentuk tanaman tropis, kaktus, Vanessa Bag menjadi tas yang ikonik dari Jims Honey\\n.\\nDengan bahan jelly yang unik, butuh effort yang besar untuk memproduksi tas Vanessa ini sehingga kuantiti yg diproduksi tidak bisa sebanyak tas lainnya \\njangan tanya Should i buy it ? YES !! You Will Never Regret to Buy This Bag 🔥 \\n.\\ncocok untuk kamu para ladies yang aktif produktif dan berani tampil beda. \\nDan Vanessa bag ini walaupun kecil bentuknya tapi muatannya cukup banyak karena bahannya yang elastis cocok dipakai untuk melengkapi OOTD untuk tubuh yang agak berisi loh !!! \\nDilengkapi dengan tali panjang, menjadikan Vanessa Bag tas yang fleksibel, dapat digunakan juga sebagai tas selempang\\n.\\nDengan berat tidak lebih dari 320 gram, Vanessa Bag menjadi pilihan terbaik untuk menemani aktivitas harianmu\\n.\\nSo, ladies, what are you waiting for?\\n\\n\\nDetail :\\nBrand : Jims Honey\\nMaterial : Jelly Bag\\nInclude Pouch\\nLengkap : Tali Panjang Tas\\nUkuran : 18 x 8 x 21 cm\\n\\nBelanja Lebih Cepat, Mudah Dan Nyaman Di Toko Jims Honey Official ^^',\n",
       "  'variants': ['Black', 'Pink', 'Green'],\n",
       "  'url_product': 'https://shopee.co.id/Jims-Honey-Vanessa-Bag-Tas-Wanita-Selempang-i.17074378.6004736582'},\n",
       " {'name': 'Jims Honey - Stephanie Bag Tas Wanita Selempang',\n",
       "  'price_before_disc': 'Rp280.000',\n",
       "  'price_after_disc': 'Rp173.000',\n",
       "  'description': 'Introducing Stephanie Bag from Jims Honey tas square shape dengan design minimalis ala Jims Honey tetapi mempunyai size yang cukup besar untuk mengorganize barang bawaan kamu yang super banyak.\\n\\nStephanie Bag dipermanis dengan scarf + gantungan snowball / Pompom dengan bulu yang sangat lembut yang menyesuaikan warna dari tas tersebut sehingga memberikan kesan ellegant kepada Stephanie bag.\\n\\nMinimalis, manis, indah, menawan, ladies, go grab this one now, limited stock available...\\n\\nDetail : \\nTersedia 1 Ruang Besar \\nTersedia 2 Sekat Ruang Besar (Bagian Depan Dan Belakang)\\nTersedia 1 Resleting Pocket\\nTersedia 1 Pocket Kecil Untuk Aksesoris\\nLengkap Tali Panjang Tas\\nLengkap Gantungan Pompom \\nBahan : kulit sintetis grade A\\nBerat : 550 gram\\nSize : 25x22x9\\n\\nBelanja Lebih Cepat, Mudah Dan Nyaman Hanya Di Jims Honey Official Store ^^',\n",
       "  'variants': [],\n",
       "  'url_product': 'https://shopee.co.id/Jims-Honey-Stephanie-Bag-Tas-Wanita-Selempang-i.17074378.5214518343'},\n",
       " {'name': 'Jims Honey - Hudgens Bag Tas Wanita Selempang',\n",
       "  'price_before_disc': 'Rp260.000',\n",
       "  'price_after_disc': 'Rp160.000',\n",
       "  'description': 'Introducing Hudgens Bag from Jims Honey, triple color bag dengan ornamen elegan plated chain pada sisi depannya\\n.\\nPerpaduan 3 warna pada Hudgens Bag membuatnya menjadi salah satu tas yang paling ikonik dan stand out dari seluruh lini produk Jims Honey\\n.\\nTerdapat 3 ruangan besar pada Hudgens Bag dan 1 slot kecil pada sisi belakang tas. Hudgens Bag juga dilengkapi dengan 1 tali panjang sehingga bisa dijadikan tas selempang juga :)\\n.\\nSo ladies, go get yours now\\n\\n\\nSpesifikasi Produk : \\nBrand : Jims Honey \\nTersedia 2 Ruang Penyimpanan Besar\\nTersedia 1 Sekat Resleting\\nTersedia 1 Pocket Kecil Dibelakang Tas\\nLengkap Tali Panjang Tas\\nPengunci = Magnetic\\nMaterial : Kulit Sintestis\\nUkuran : 21.5 x 14.5 x 7 cm\\n\\nBelanja Lebih Cepat, Mudah Dan Nyaman Di Toko Jims Honey Official :) ',\n",
       "  'variants': [],\n",
       "  'url_product': 'https://shopee.co.id/Jims-Honey-Hudgens-Bag-Tas-Wanita-Selempang-i.17074378.2063038691'},\n",
       " {'name': 'Jims Honey - Grace Bag Tas Wanita Sling Bag',\n",
       "  'price_before_disc': 'Rp300.000',\n",
       "  'price_after_disc': 'Rp135.000',\n",
       "  'description': \"Introducing Grace Bag from Jims Honey, graphic major bag pertama dari Jims Honey.\\nInline dengan trend, Grace Bag memiliki major graphic realistic ribbon pada sisi depan tas yang memberikan kesan dinamis pada design dan bentuk tas yang elegan.\\nSoal fungsionalitas, Grace Bag memiliki 1 ruang besar + 1 sekat besar dibagian dalam tas + 2 sekat dibagian depan dalam tas. Seluruh kompartment terbagi secara presisi dengan mengkalkulasi dari segi fungsionalitas bagi penggunanya.\\nGrace Bag dilengkapi dengan tali rantai stainless yang menambah kesan mewah nan elegan + tali pendek untuk menjinjing Grace Bag, hal ini sekaligus menjadikan Grace Bag tas yang fleksibel, dapat dijadikan sling bag dan hand bag.\\nLadies, great things won't last long! make your move now. So kira kira, warna favoritemu yang mana nih?.\\n\\nSpesifikasi Produk : \\nTersedia 1 Ruang Penyimpanan Besar\\nTersedia 2 Sekat Ruang Penyimpanan\\nTersedia 1 Slot Kecil Untuk Aksesoris\\nLengkap Tali Panjang (Kombinasi Rantai Dan Kulit)\\nMaterial : Kulit Sintestis\\nSize : 22 x 13 x 8 cm\\nPilihan Warna : Black, Red, Pink, Dan White\\n\\nBelanja Lebih Cepat, Mudah Dan Nyaman Hanya Di Jims Honey Official Store ^^\",\n",
       "  'variants': ['Black', 'Red'],\n",
       "  'url_product': 'https://shopee.co.id/Jims-Honey-Grace-Bag-Tas-Wanita-Sling-Bag-i.17074378.7417487035'},\n",
       " {'name': 'Jims Honey - Kylie Bag Tas Wanita Sling Bag',\n",
       "  'price_before_disc': 'Rp250.000',\n",
       "  'price_after_disc': 'Rp152.000',\n",
       "  'description': 'INTRODUCING KYLIE BAG, THE NEW ESSENTIAL BAG FROM Jims Honey. Tas cantik kombinasi dua warna dengan model elegan, memberikan kesan anggun bagi setiap #JHLadies yang membawanya\\n.\\nDengan berat hanya 530 gram, Kylie Bag sangat bisa untuk dijadikan sebagai partner harianmu. Ke kantor? kampus? hangout? you name it\\nKylie Bag pun cocok untuk acara formal 🥰 Perpaduan tali panjang berbahan rantai dan kulit yang terlihat mewah serta dapat di adjust sesuai tinggi badan menjadikan tas ini sangat wajib kamu koleksi \\n.\\nTerdapat 2 kompartment besar  + 1 sekat dibagian tengah dengan magnet lock dan kompartment kecil di bagian dalam yang bisa kamu pakai untuk merapikan barang kecil kamu \\n.\\nTunggu apalagi ladies, go get yours now :)\\n\\nSpesifikasi Produk : \\nBrand : Jims Honey\\nTersedia 2 Kompartmen Ruang Penyimpanan Besar\\nTersedia 1 Ruang Sekat Dibagian Tengah Tas Dengan Magnetic Lock\\nTersedia 1 Pocket Kecil Dibagian Dalam Tas\\nTali Panjang Rantai Dengan Kombinasi Kulit\\nMaterial : Kulit Sintestis Grade A\\nUkuran : 27 x 17 x 8 cm\\n\\nBelanja Lebih Cepat, Mudah Dan Nyaman Hanya Di Jims Honey Official Store ^^ ',\n",
       "  'variants': ['Navy', 'White'],\n",
       "  'url_product': 'https://shopee.co.id/Jims-Honey-Kylie-Bag-Tas-Wanita-Sling-Bag-i.17074378.6554696529'},\n",
       " {'name': 'Jims Honey - Lucy Bag Tas Selempang Wanita Tas Sling Bag',\n",
       "  'price_before_disc': 'Rp250.000',\n",
       "  'price_after_disc': 'Rp150.000',\n",
       "  'description': 'Introducing Lucy Bag from Jims Honey. Tas dengan kombinasi warna warna cantik dan berbahan kulit sintetis Grade A yang bold serta design zipper pulls and charms menjadikan Lucy Bag memiliki gaya chic yang elegan.\\n.\\nLucy bag memiliki ukuran yang minimalis sehingga dapat dibawa kemana mana, namun tetap memiliki fungsionalitas yang tinggi.\\n.\\nBring out your elegance side with JIMS HONEY LUCY BAG. Kompartment yang terorganize untuk barang kesayangan #JHLadies dengan Padlock design. Tali panjang kombinasi rantai yang berkualitas tinggi.\\n\\n\\nSpesifikasi Produk : \\nBrand : Jims Honey\\nTersedia 2 Resleting  Ruang Penyimpanan, Dengan Detail : \\n- Resleting Pertama : Terdapat 2 Sekat Besar Muat HP, Uang Kertas, Dan Lain-Lain\\n- Resleting Kedua : Terdapat 2 Sekat Besar, 1 Resleting Koin, 8 Slot Kartu Dan 2 Slot Penyimpanan Besar\\nLengkap Tali Panjang Tas, Kombinasi Tali Rantai Dan Kulit\\nMaterial : Kulit Sintestis\\nUkuran : 19.5 x 11 x 6 cm \\nBerat Tas : 540gram\\n\\nBelanja Lebih Cepat, Mudah Dan Nyaman Hanya Di Jims Honey Official Store ^^ ',\n",
       "  'variants': ['WHITE', 'PINK'],\n",
       "  'url_product': 'https://shopee.co.id/Jims-Honey-Lucy-Bag-Tas-Selempang-Wanita-Tas-Sling-Bag-i.17074378.6255406331'},\n",
       " {'name': 'Jims Honey - Bianca Sling Bag Tas Wanita Selempang',\n",
       "  'price_before_disc': 'Rp240.000',\n",
       "  'price_after_disc': 'Rp125.000',\n",
       "  'description': 'Ladies, this is a MUST HAVE item from Jims Honey. Jims Honey Bianca Bag , tas mungil dengan design elegan memberikan kesan eksklusif. \\nDengan material kulit sintetis , dimensi 24 cm x 15,5 cm x 8,5 cm dan berat hanya 340 gr you can easily bring out your elegance side with Bianca Bag \\n\\nColor: Soft blue, Soft pink, White, Navy blue, Black, Maroon \\n.\\nBecause High Quality Beauty is Not Wallet Pain !!\\n\\n\\nSpesifikasi Produk : \\nBrand : Jims Honey\\nTersedia 1 Kompartmen Penyimpanan Dibagian Depan\\nTersedia 1 Kompartmen Penyimpanan Besar\\nTersedia 1 Pocket Kecil \\nTersedia 1 Resleting Pocket \\nMaterial : Kulit Sintestis\\nTali Panjang Perpaduan Kulit Dan Rantai\\nUkuran : 24 x 15.5 x 8.5cm\\n\\nBelanja Lebih Cepat, Mudah Dan Nyaman Di Toko Jims Honey Official ^^',\n",
       "  'variants': ['Black', 'White', 'Navy', 'Softpink', 'Skyblue', 'Red'],\n",
       "  'url_product': 'https://shopee.co.id/Jims-Honey-Bianca-Sling-Bag-Tas-Wanita-Selempang-i.17074378.3749660704'},\n",
       " {'name': 'Jims Honey - Emma Sling Bag Tas Wanita Selempang Brand Original',\n",
       "  'price_before_disc': 'Rp240.000',\n",
       "  'price_after_disc': 'Rp204.000',\n",
       "  'description': 'Tas selempang terbaru dengan desain yang simple dan casual yang memiliki banyak pocket sehingga lebih praktis. Pocket-pocket kecil ini dapat di isi HP dan berbagai kosmetik bawaan Anda sehingga barang bawaan Anda tetap rapi. Menggunakan material kulit sintestis yang lembut yang sangat mudah dibersihkan jika kotor. Bahan tas yang lemas (tidak kaku) ini sangat nyaman digunakan dan bentuk tas mengikuti barang barang bawaan Anda.\\nTersedia 6 pilihan warna, yaitu : Red, Black, Grey, Brown, Gold dan Navy.\\nEmma bag cocok digunakan untuk hangout, tas kuliah ataupun tas kerja. Karna sangat mudah untuk di mix and match dengan fashion terkini.\\n\\nSpesifikasi Produk : \\nBrand : Jims Honey\\nTersedia 1 Ruang Penyimpanan Besar\\nTersedia 1 Resleting Pocket (Bagian Dalam Tas)\\nTersedia 2 Pocket Kecil (Bagian Dalam Tas)\\nTersedia 2 Resleting Pocket Besar (Bagian Luar Tas)\\nTersedia 2 Resleting Pocket Kecil (Bagian Luar Tas)\\nLengkap Tali Panjang\\nBahan Sintestis Lembut Tekstur Kulit Jeruk\\nBahan Lemas ( Bentuk Tas Mengikuti Isi Tas)\\nUkuran : 27 x 10,5 x 20cm\\n\\nBelanja lebih cepat, mudah dan nyaman di Toko Jims Honey Official',\n",
       "  'variants': ['Black', 'Navy', 'Grey', 'Brown'],\n",
       "  'url_product': 'https://shopee.co.id/Jims-Honey-Emma-Sling-Bag-Tas-Wanita-Selempang-Brand-Original-i.17074378.157328947'},\n",
       " {'name': 'Jims Honey - Natalie Bag Tas Wanita Import Waterproof',\n",
       "  'price_before_disc': 'Rp280.000',\n",
       "  'price_after_disc': 'Rp173.000',\n",
       "  'description': 'Waterproof? Introducing NATALIE Waterproof Bag from Jims Honey\\n.\\nas modern minimalis dengan fungsionalitas luar biasa. Ruang penyimpanan yang leluasa, cocok untuk menemani aktivitas mommy dan sang buah hati\\n.\\nNatalie bag memiliki 1 ruang besar sebagai tempat penyimpanan utama + 1 ruang kecil dengan resleting. Natalie bag juga memiliki 2 sekat untuk tempat menyimpan botol minum, eiittsss ga perlu takut tumpah, karena Natalie Bag WATERPROOF :)\\n.\\nOlahraga gym? berenang? nongkrong di cafe favoritemu? you name it! Natalie Bag dari Jims Honey siap menemani aktivitasmu.\\n\\nSpesifikasi Produk :\\nBrand : Jims Honey\\nTersedia 1 Ruang Penyimpanan Besar\\nTersedia 1 Sekat Ruang\\nTersedia 1 Pocket Kecil Untuk Penyimpanan\\nTersedia 2 Sekat Untuk Tempat Botol Minuman\\nLengkap Tali Panjang Tas\\nMaterial : Parasut ( Waterproof Bag)\\nUkuran : 30 x 24 x 15 cm\\n\\nBelanja Lebih Cepat, Mudah, Dan Nyaman Hanya di Jims Honey Official Store ^^',\n",
       "  'variants': [],\n",
       "  'url_product': 'https://shopee.co.id/Jims-Honey-Natalie-Bag-Tas-Wanita-Import-Waterproof-i.17074378.2758288832'},\n",
       " {'name': 'Jims Honey - Browny Bag Tas Wanita Tas Belanja',\n",
       "  'price_before_disc': 'Rp300.000',\n",
       "  'price_after_disc': 'Rp155.000',\n",
       "  'description': 'Introducing Jims Honey Browny from Jims Honey.\\nTas square shape, WATERPROOF, dengan graphic bear pada keseluruhan muka bagian depan tas, cocok untuk kamu yang berjiwa dinamis.\\nBrowny bag, menggunakan bahan parachute kualitas terbaik dikelasnya, light, sangat ringan dan yang terpenting, waterproof. Tas ini cocok banget untuk mommy yang perlu space maksimal untuk membawa keperluan sang buah hati.\\nBrowny bag cocok juga untuk kamu yang aktif berolahraga, bisa dijadikan sebagai gym bagmu, atau untuk semua aktivitas padatmu Browny bag bisa menjadi tas unggulan untuk semua barang bawaanmu.\\n\\nSo, ladies, what are you waiting for?!\\n\\nSpesifikasi Produk : \\nUkuran : 46 cm x 30 cm x 3 cm \\nBerat : 500 gr\\nBahan : parasut waterproof\\n- Terdapat lubang di bagian belakang tas yang berfungsi untuk dikaitkan di koper shg nyaman untuk travelling\\n- Terdapat 2 slot kecil di bagian dalam tas untuk tempat HP\\n- Terdapat 1 slot resleting di bagian dalam tas\\n- Terdapat 2 slot di kiri dan kanan tas, bisa untuk botol minum\\nWarna : black, navy, maroon, pink, brown\\n\\nBelanja Lebih Cepat, Mudah Dan Nyaman Hanya Di Jims Honey Official Store ^^',\n",
       "  'variants': ['Black', 'Brown', 'Pink'],\n",
       "  'url_product': 'https://shopee.co.id/Jims-Honey-Browny-Bag-Tas-Wanita-Tas-Belanja-i.17074378.3917356345'},\n",
       " {'name': 'Jims Honey - Freya Bag Tas Wanita Selempang Sling Bag Import',\n",
       "  'price_before_disc': 'Rp340.000',\n",
       "  'price_after_disc': 'Rp180.000',\n",
       "  'description': 'A Luxury fashion bag by Jims Honey \\nFREYA BAG  \\nDengan bahan kulit sintetis Grade A dan size yang besar 32 x 11,5 x 23 cm membuat tas ini wajib dimiliki kaum hawa elegant yang menginginkan tas space besar tapi tetap modis \\n\\nSo, ready to catch this true meaning of elegant ? Make it fast JH Ladies !\\n\\nSpesfikasi Produk : \\nBrand : Jims Honey \\nTersedia 2 Ruang Penyimpanan Besar\\nTersedia 1 Sekat Resleting \\nTersedia 2 Slot Pocket Kecil\\nTersedia 1 Resleting Pocket \\nMaterial : Kulit Sintestis Grade A\\nRantai Tas Warna Hitam Elegant\\nUkuran : 34 x 23 x 11 cm\\n\\nBelanja Lebih Cepat, Mudah Dan Nyaman Hanya Di Toko Jims Honey Official ^^',\n",
       "  'variants': ['NAVY', 'RED'],\n",
       "  'url_product': 'https://shopee.co.id/Jims-Honey-Freya-Bag-Tas-Wanita-Selempang-Sling-Bag-Import-i.17074378.4563540950'},\n",
       " {'name': 'Jims Honey - Rosie Sling Bag Tas Wanita Selempang Brand Original',\n",
       "  'price_before_disc': 'Rp180.000',\n",
       "  'price_after_disc': 'Rp133.000',\n",
       "  'description': 'Introducing ROSIE BAG from JIMS HONEY, Tas bergaya minimalis dengan material kulit jeruk terbaik di kelasnya, ruang penyimpanan yang ekstra leluasa memungkinkan ROSIE BAG menemani aktivitas harianmu yang padat.\\nStrap pada ROSIE BAG bisa di adjust lebih panjang atau lebih pendek sehingga sangat fleksibel dalam penggunaannya.\\nGo get yours now, tersedia dalam 8 jenis warna: Black, Navy, Green army, Gold, Softpink, Softblue, Broken white, Metalic grey\\n\\nDETAIL : \\n1 resleting kecil untuk menyimpan aksesoris \\n1 ruang penyimapan besar \\n1 resleting pocket bagian depan\\nStrap 3 cm (*dapat di adjust)\\nmaterial : kulit jeruk \\nUkuran 19.5 x 7 x 14 cm\\n\\nBelanja lebih cepat, mudah dan nyaman di Toko Official Jims Honey :)',\n",
       "  'variants': ['Gold', 'Softpink'],\n",
       "  'url_product': 'https://shopee.co.id/Jims-Honey-Rosie-Sling-Bag-Tas-Wanita-Selempang-Brand-Original-i.17074378.1340915747'},\n",
       " {'name': 'Jims Honey - Yuri Bag Tas 2 in 1 - Tas Selempang Wanita Dan Tas Ransel Wanita - Sling Bag - Backpack',\n",
       "  'price_before_disc': 'Rp260.000',\n",
       "  'price_after_disc': 'Rp155.000',\n",
       "  'description': 'This is a MUST HAVE ITEM from Jims Honey. THREE in ONE BAG - Bisa dijadikan Sling Bag, Backpack , Carrier bag \\nYou Named it 😊 \\nDesignnya embroider sehingga terlihat elegan dan eksklusif loh \\nBayangin #JHLadies kalian tetap bisa tampil fashionable dengan 3 looks.\\n\\nSpesifikasi Produk : \\nBrand : Jims Honey \\nTersedia 3 Sekat Ruang Penyimpanan\\nSekat Pertama : Tersedia Ruang Penyimpanan Yang Besar\\nSekat Kedua : Tersedia Ruang Penyimpanan Yang Besar Dan 1 Pocket Kecil\\nSekat Ketiga : Tersedia Ruang Penyimpanan Yang Besar Dan 1 Lubang Untuk Earphone\\nMaterial : Kulit Sintestis\\nTersedia 2 Tali Panjang Tas\\nUkuran : 18 x 8 x 20.5 cm\\nTersedia 7 Pilihan Warna : Black, White, Pink, Navy Grey, Red Dan Purple\\n\\nBelanja Lebih Cepat, Mudah Dan Nyaman Hanya Di Jims Honey Official Shop ^^',\n",
       "  'variants': ['Black', 'Red', 'White', 'Pink', 'Navy'],\n",
       "  'url_product': 'https://shopee.co.id/Jims-Honey-Yuri-Bag-Tas-2-in-1-Tas-Selempang-Wanita-Dan-Tas-Ransel-Wanita-Sling-Bag-Backpack-i.17074378.6164764518'},\n",
       " {'name': 'Jims Honey - Xavier Wallet Dompet Wanita Import',\n",
       "  'price_before_disc': 'Rp116.000',\n",
       "  'price_after_disc': 'Rp63.000',\n",
       "  'description': \"Introducing Xavier Wallet from Jims Honey. Our commitment to bring you only the best is the driving force for XAVIER WALLET, a wallet as precious as Sapphire\\n.\\nFlawless design dengan dual color, memberikan sentuhan kontras yang memukau pada setiap cm nya. Berbahan dasar kulit sintetis terbaik dikelasnya, menjadikan tingkat durabilitas dari XAVIER WALLET terjamin\\n.\\nMemiliki 1 ruang besar untuk uang kertas dan 2 sekat untuk kartu serta 3 slot kartu, jadi kartu kartumu ga akan berserakan lagi. Xavier juga memiliki 1 ruang dompet dengan resleting untuk koin + 1 slot untuk memajang foto terbaikmu\\n.\\nLadies, the flawless wallet from Jims Honey has finally arrived, it's called XAVIER WALLET, go and get yours now\\n\\nDetail :\\nBrand : Jims Honey\\nTersedia 1 Ruang Penyimpanan Besar Untuk Uang Kertas\\nTersedia 1 Resleting Uang Koin\\nTersedia 1 Slot Foto Dan 3 Slot Kartu\\\\\\nTersedia 2 Slot Kecil\\nMaterial : Kulit Sintestis\\nUkuran : 12.5 x 1.5 x 9 cm\\n\\nBelanja Lebih Cepat , Mudah Dan Nyaman Hanya Di Jims Honey Official ^^\",\n",
       "  'variants': ['RED', 'NAVY'],\n",
       "  'url_product': 'https://shopee.co.id/Jims-Honey-Xavier-Wallet-Dompet-Wanita-Import-i.17074378.2833856427'},\n",
       " {'name': 'Jims Honey - Elica Wallet Dompet Wanita Dompet Lipat',\n",
       "  'price_before_disc': 'Rp140.000',\n",
       "  'price_after_disc': 'Rp74.000',\n",
       "  'description': 'Introducing #JHElica wallet from Jims Honey.  Dompet dengan design seamless stripe pattern berbahan kulit jeruk memberikan kesan Yang sangat simple dan classy untuk produk ini.\\n.\\nTerdapat 3 slot kartu, 2 sekat, 1 slot untuk menaruh foto, 1 ruang besar untuk menaruh uang kertas, terdapat logo jims Honey di bagian depan dompet, dan berukuran 9,5 x 11,5 x 2,5 cm.\\n.\\nElica wallet memiliki berat hanya 90 gr membuat dompet lipat ini Sangat cocok untuk dibawa untuk berpergian karena ukurannya yang fleksibel\\n\\nSpesifikasi Produk : \\nBrand : Jims Honey\\nTersedia 1 Ruang Penyimpanan Uang Kertas\\nTersedia 1 Slot Foto\\nTersedia 3 Slot Kartu + 2 Sekat\\nMaterial : Kulit Tekstur Kulit Jeruk\\nUkuran : 11.5 x 10 x 2.5 cm\\n\\nBelanja Lebih Cepat, Mudah Dan Nyaman Hanya Di Toko Jims Honey Official ^^',\n",
       "  'variants': ['Black',\n",
       "   'Navy',\n",
       "   'Khaki',\n",
       "   'Bronze',\n",
       "   'Yellow',\n",
       "   'Skyblue',\n",
       "   'Softpink'],\n",
       "  'url_product': 'https://shopee.co.id/Jims-Honey-Elica-Wallet-Dompet-Wanita-Dompet-Lipat-i.17074378.7440763556'},\n",
       " {'name': 'Jims Honey - Alecia Wallet Dompet Wanita New Arrival',\n",
       "  'price_before_disc': 'Rp140.000',\n",
       "  'price_after_disc': 'Rp68.000',\n",
       "  'description': 'Yeayy, koleksi terbaru dari Jims Honey makin kece Sist. Selain simple untuk pengunaan sehari-hari, Alecia wallet memiliki spesifikasi yang sangat mendukung seperti tersedianya slot uang koin, uang kertas dan yang nggak kalah penting, tersedia banyak slot kartu yang siap menampung kartu penting Anda. Dengan material sintetis leather yang awet dan resleting dompet yang tidak mudah macet, cocok dijadikan pilihan untuk menambah koleksi Anda.\\n\\nTersedia berbagai pilihan warna : Black, Grey, Hotpink, Softpink, Softblue dan Red.\\n\\nSpesifikasi Produk :\\nBrand : Jims Honey\\nTersedia 3 Ruang Penyimpanan Besar Untuk Uang Kertas Ataupun HP\\nTersedia 2 Slot Panjang Untuk Penyimpanan Uang Kertas Atau Notes Atau Voucher-Voucher\\nTersedia 8 Slot Kartu\\nTersedia 1 Resleting Pocket Untuk Uang Koin\\nLengkap Tali Pendek\\nMaterial : Sintetis Leather Kombinasi Gliter\\nUkuran : 19 x 2 x 9 cm\\n\\nBelanja Lebih Cepat, Mudah Dan Nyaman Hanya Di Jims Honey Official Store ^^',\n",
       "  'variants': ['Black', 'Softpink', 'Grey', 'Softblue'],\n",
       "  'url_product': 'https://shopee.co.id/Jims-Honey-Alecia-Wallet-Dompet-Wanita-New-Arrival-i.17074378.3943722659'},\n",
       " {'name': 'Jims Honey - Callista Wallet Dompet Wanita Terbaru',\n",
       "  'price_before_disc': 'Rp120.000',\n",
       "  'price_after_disc': 'Rp74.000',\n",
       "  'description': 'Introducing Callista Wallet by Jims Honey. Dompet bergaya minimalis dengan design dinamis cocok untuk kamu yang berjiwa aktif\\n•\\nMemiliki 2 compartment utama untuk menyimpan uang kertas, 1 compartment besar dibagian belakang yang dilengkapi dengan zipper, 1 compartment berukuran sedang untuk menyimpan kertas + 12 slot untuk card holder, jadi kamu bisa keep kartu kartumu dengan rapi\\n•\\nLast but not least, Callista wallet juga memungkinkan kamu untuk mengekspresikan diri melalui slot foto. Simpan selfie terbaikmu di slot foto yang terdapat pada Callista wallet\\n•\\nSo, ladies, let’s get this now\\n\\nDetail Produk :\\nBrand : Jims Honey\\nTersedia 2 Slot Besar Untuk Uang Kertas\\nTersedia 1 Resleting Pocket Dibagian Belakang\\nTersedia 1 Slot Sedang Multifungsi\\nTersedia 11 Slot Kartu + 1 Slot Foto\\nMaterial : Kulit Sintestis\\nUkuran : 19 x 1.5 x 9 cm\\n\\nBelanja Lebih Cepat, Mudah Dan Nyaman Hanya Di Jims Honey Official ^^',\n",
       "  'variants': ['Navy', 'Red', 'Pink', 'Tosca'],\n",
       "  'url_product': 'https://shopee.co.id/Jims-Honey-Callista-Wallet-Dompet-Wanita-Terbaru-i.17074378.5815333912'},\n",
       " {'name': 'Jims Honey - Elena Wallet Dompet Wanita',\n",
       "  'price_before_disc': 'Rp155.000',\n",
       "  'price_after_disc': 'Rp92.500',\n",
       "  'description': 'Introducing Elena wallet from Jims Honey . Dompet dengan design mewah dan pilihan warna yg iconic Serta berbahan kulit jeruk yang memberikan kesan elegan sangat cocok dipergunakan untuk kamu\\nUntuk acara pesta, arisan , hangout sehingga memberikan kesan look mewah pada diri kamu\\n..\\nOne of elegant wallet from Jims Honey and worth buying !!!\\n.\\nSpesifikasi Produk :\\nBrand : Jims Honey\\nTersedia 2 Ruang Penyimpanan Besar Muat Uang Kertas Dan HP\\nTersedia 1 Resleting Untuk Koin\\nTersedia 4 Slot Kartu\\nTersedia 1 Slot Panjang Multifungsi\\nMaterial : Kulit Dengan Tekstur Kulit Jeruk\\nUkuran : 19 x 10 x 3.5 cm\\n\\nBelanja Lebih Cepat, Mudah Dan Nyaman Hanya Di Jims Honey Official ^^',\n",
       "  'variants': ['Black',\n",
       "   'Navy',\n",
       "   'Softpink',\n",
       "   'Softblue',\n",
       "   'Yellow',\n",
       "   'Bronze',\n",
       "   'Khaki'],\n",
       "  'url_product': 'https://shopee.co.id/Jims-Honey-Elena-Wallet-Dompet-Wanita-i.17074378.7540799604'},\n",
       " {'name': 'Jims Honey - Carlotta Wallet Dompet Wanita Dompet Kecil',\n",
       "  'price_before_disc': 'Rp120.000',\n",
       "  'price_after_disc': 'Rp60.000',\n",
       "  'description': 'Introducing #JHCarlotta wallet from Jims Honey\\nTriple colour wallet dengan ornamen lucu sebagai resletingnya\\nPerpaduan 3 warna pada JH Carlotta membuatnya menjadi salah satu dompet yang paling ikonik dan stand out dari seluruh produk donpet jims honey lainnya\\nTerdapat 5 slot kartu , 1 slot foto , 1 koin pouch dan 1 slot uang kertas\\n.\\nCarlotta memiliki berat hanya 100 gr dengan ukuran 12,5 x 9 x 1,8 cm ketika tertutup\\nDan memiliki ukuran 17 x 12,5 x 1 cm ketika dibuka membuat dompet lipat ini menjadi unggulan #JHLadies dalam kehidupan yg lebih fleksibel\\n.\\n\\nDetail :\\nBahan kulit sintetis\\nPenutup klip magnet\\nAda hiasan kuncir bermotif kelinci membuat tampilan dompet semakin cute\\nDompet semakin unik dengan tampilan triple color, yaitu\\nRed (variasi black, white) dengan karakter Passion\\nBlack (variasi white, crème) dengan karakter Safety\\nPink (variasi peach, white) dengan karakter Romantic\\nGreen (variasi black, purple) dengan karakter Classy\\nBlue (variasi skyblue, lightblue) dengan karakter Freedom\\n\\nSo Which character are you ?\\n\\nSpesifikasi Produk :\\nBrand : Jims Honey\\nTersedia 1 Ruang Penyimpanan Uang Kertas\\nTersedia 1 Resleting Untuk Uang Koin\\nTersedia 1 Slot Foto\\nTersedia 5 Slot Kartu\\n.\\n\\nBelanja Lebih Cepat, Mudah Dan Nyaman Di Toko Jims Honey Official ^^',\n",
       "  'variants': ['Black', 'Red', 'Green', 'Pink', 'Blue'],\n",
       "  'url_product': 'https://shopee.co.id/Jims-Honey-Carlotta-Wallet-Dompet-Wanita-Dompet-Kecil-i.17074378.6937365606'},\n",
       " {'name': 'Jims Honey - Lawrence Wallet Dompet Wanita Import',\n",
       "  'price_before_disc': 'Rp110.000',\n",
       "  'price_after_disc': 'Rp60.000',\n",
       "  'description': 'Yeayy, koleksi terbaru dari Jims Honey makin kece Sist. Selain simple untuk pengunaan sehari-hari, Lawrence wallet memiliki spesifikasi yang sangat mendukung seperti tersedianya slot uang koin, uang kertas dan yang nggak kalah penting, tersedia banyak slot kartu yang siap menampung kartu penting Anda. Dengan material safianno leather yang awet dan resleting dompet yang tidak mudah macet, cocok dijadikan pilihan untuk menambah koleksi Anda.\\n\\nTersedia berbagai pilihan warna : Black, Navy, Softpink, Red Dan Grey.\\n\\n\\nSpesifikasi Produk :\\nBrand : Jims Honey\\nTersedia 3 Ruang Penyimpanan Besar Untuk Uang Kertas Ataupun HP\\nTersedia 2 Slot Panjang Untuk Penyimpanan Uang Kertas Atau Notes\\nTersedia 8 Slot Kartu\\nTersedia 1 Resleting Pocket Untuk Uang Koin\\nMaterial : Safianno Leather\\nUkuran : 19 x 2 x 9 cm',\n",
       "  'variants': ['Black', 'Navy', 'Red', 'Pink', 'Grey'],\n",
       "  'url_product': 'https://shopee.co.id/Jims-Honey-Lawrence-Wallet-Dompet-Wanita-Import-i.17074378.4403383986'},\n",
       " {'name': 'Jims Honey - Cecil Wallet Dompet Wanita Kecil Dompet Kartu',\n",
       "  'price_before_disc': 'Rp120.000',\n",
       "  'price_after_disc': 'Rp64.500',\n",
       "  'description': 'Introducing Cecil Wallet from Jims Honey. Dompet lipat cantik dengan penutup aksen love, simple, fashionable, cocok untuk kamu berjiwa aktif dan ceria.\\n.\\nCecil Wallet memiliki kompartment yang terbagi dengan baik, didalam ada penempatan uang kertas, memiliki 4 slot kartu yang mumpuni, Ada 1 slot resleting koin dengan resleting metal grade A, Bahan kulit sintetis dengan jahitan rapih banget. Berukuran 11,5 x9,5 x2,5 cm (saat tertutup), 11,5 x 25x 2 cm (saat terbuka). Memiliki warna black, navy, toska, red, pink, abu-abu\\n.\\nDengan berat hanya 100 gr, Cecil Wallet Cocok untuk dibawa berpergian menemani aktivitas harianmu. 1 dompet untuk segala aktivitas.\\n.\\nLast but not least, Cecil Wallet juga memungkinkan kamu untuk mengekspresikan diri melalui slot foto. Simpan selfie terbaikmu di slot foto yang terdapat pada Cecil Wallet.\\n\\n\\nSpesifikasi Produk :\\nBrand : Jims Honey\\nTersedia 1 Ruang Penyimpanan Uang Kertas\\nTersedia 4 Slot Kartu\\nTersedia 1 Resleting Untuk Uang Koin\\nMaterial : Kulit Sintestis\\nUkuran : 11,5 x9,5 x2,5 cm (saat tertutup), 11,5 x 25x 2 cm (saat terbuka)\\n\\n\\nBelanja Lebih Mudah, Cepat Dan Nyaman Di Toko Jims Honey Official ^^',\n",
       "  'variants': ['Black', 'Navy', 'Grey', 'Maroon', 'Pink', 'Tosca'],\n",
       "  'url_product': 'https://shopee.co.id/Jims-Honey-Cecil-Wallet-Dompet-Wanita-Kecil-Dompet-Kartu-i.17074378.6337023926'},\n",
       " {'name': 'Jims Honey - Gabby Wallet Dompet Wanita Dompet Panjang Lipat',\n",
       "  'price_before_disc': 'Rp120.000',\n",
       "  'price_after_disc': 'Rp74.000',\n",
       "  'description': 'Introducing Gabby Wallet by Jims Honey. A Wallet with Envelope style and durable leather \\nDidesign trendy dengan snap button closure dan hardware Gold yang mewah menjadikan dompet Gabby wajib di dalam tas kamu.\\n.\\nLast but not least, Gabby wallet mempunyai tali pendek sehingga bisa kamu Carry di pergelangan tangan kamu dengan fleksibel \\n•\\nSo, ladies, let’s get this adorable item NOW !!\\n\\nSpesifikasi Produk : \\nBrand : Jims Honey\\nTersedia 1 Kompartmen Penyimpanan Uang Kertas (Bagian Utama)\\nTersedia 6 Slot Kartu\\nTersedia 1 Ruang Penyimpanan Besar Dibagian Resleting\\nLengkap Tali  Dompet (Tali Pendek Untuk Di Tangan)\\nMaterial : Kulit Sintestis\\nUkuran : 20 x 10 x 1.5 CM\\n\\nBelanja Lebih Cepat, Mudah Dan Nyaman Hanya Di Jims Honey Official Store ^^ \\n\\n#dompetWanita #dompetpanjang #dompetlipat #dompetfashion ',\n",
       "  'variants': ['Black', 'Grey', 'Navy', 'Softpink', 'Tosca', 'Dustypink'],\n",
       "  'url_product': 'https://shopee.co.id/Jims-Honey-Gabby-Wallet-Dompet-Wanita-Dompet-Panjang-Lipat-i.17074378.3854454371'},\n",
       " {'name': 'Jims Honey -Aimy Wallet Dompet Wanita Dompet Kartu',\n",
       "  'price_before_disc': 'Rp145.000',\n",
       "  'price_after_disc': 'Rp61.000',\n",
       "  'description': 'Introducing Aimy wallet from Jims Honey \\nDompet lipat dengan Design Embroidery love pattern dan ornamen lucu sebagai resletingnya memberikan kesan Sweet &amp; Chic untuk produk ini \\nTerdapat 5 slot kartu , 1 slot foto , 1 koin pouch dan 1 slot uang kertas\\n.\\nAimy wallet memiliki berat hanya 80 gr membuat dompet lipat ini Sangat cocok untuk dibawa untuk berpergian karena ukurannya yang fleksibel\\n.\\nSpesifikasi Produk : \\nBrand : Jims Honey\\nTersedia 1 Ruang Penyimpanan Uang Kertas\\nTersedia 1 Resleting Untuk Uang Koin\\nTersedia 1 Slot Foto\\nTersedia 5 Slot Kartu\\nMaterial : Kulit Sintestis\\nUkuran : 12 x 9 x 1 cm\\n\\nBelanja Lebih Cepat,Mudah Dan Nyaman Hanya Di Jims Honey Official^^',\n",
       "  'variants': ['Black', 'Navy', 'Green', 'Grey', 'Red', 'Pink'],\n",
       "  'url_product': 'https://shopee.co.id/Jims-Honey-Aimy-Wallet-Dompet-Wanita-Dompet-Kartu-i.17074378.3440577941'},\n",
       " {'name': 'Jims Honey - Godiva Backpack Tas Ransel Wanita',\n",
       "  'price_before_disc': 'Rp260.000',\n",
       "  'price_after_disc': 'Rp160.000',\n",
       "  'description': 'Introducing Godiva Backpack from jimshoney\\n•\\nBackpack sporty casual dari Jims Honey dengan ruang penyimpanan yang leluasa\\n•\\nDurabilitas? ga perlu diragukan lagi, dengan material terbaik dikelasnya, Jims Honey memberikan assurance durabilitas tinggi untuk setiap produknya\\n•\\nSo, ladies, what are you waiting for? get your Godiva Backpack now\\n•\\n\\nDetail:\\nTersedia 1 ruang penyimpanan besar\\n• Tersedia 2 pocket kecil didalam tas\\n• Tersedia 1 resleting pocket di dalam tas\\n• Tersedia 1 resleting pocket diluar tas\\n• Tersedia 2 pocket disamping kanan,kiri tas untuk botol minum\\n• Terdapat 2 variasi tali.\\n• Material : parasut\\n• Ukuran 30 x 32 x 14\\n• Berat : 480gr\\n\\nBelanja Lebih Cepat, Mudah Dan Nyaman Hanya Di Jims Honey Official ^^',\n",
       "  'variants': ['Black', 'Red'],\n",
       "  'url_product': 'https://shopee.co.id/Jims-Honey-Godiva-Backpack-Tas-Ransel-Wanita-i.17074378.5800209060'},\n",
       " {'name': 'Jims Honey - Felicia Backpack Tas Ransel Wanita Waterproof',\n",
       "  'price_before_disc': 'Rp350.000',\n",
       "  'price_after_disc': 'Rp164.000',\n",
       "  'description': 'Wohoo !!! We are Launching a new Backpack today ! 😆 Signature Jims Honey Backpack dengan design yang chic dan modern \\n•\\nMaterial parasut lembut menjadikan Felicia Backpack ini anti air loh 😍Sehingga aman sekali untuk kamu yg banyak melakukan aktivitas di luar tanpa perlu takut barang kamu kebasahan terkena percikan hujan \\n•\\nSize yg cukup besar yaitu 36 cm x 36 cm x 13 cm sehingga muat laptop hingga 13 inch \\nBanyak kompartment sehingga barang bawaan kamu akan terorganisir rapi \\n•\\nFREE Bagcharm yang akan mempermanis penampilan tas kamu tentunya \\n\\nSo, ladies, what are you waiting for? it&#39;s about to be yours, soon! Order Felicia Backpack sekarang juga\\n.\\nSpesifikasi Produk : \\nBrand : Jims Honey \\nTersedia 1 Ruang Penyimpanan Besar\\nTersedia 1 Sekat Ruang Muat Laptop\\nTersedia 1 Resleting Pocket Kecil \\nTersedia 2 Pocket Kecil \\nTersedia 1 Resleting Pocket Besar Bagian Depan Tas\\nTersedia 1 Resleting Pocket Kecil Di Bagian Belakang Tas\\nMaterial : Bahan Parasut Yang Waterproof\\nUkuran : 36 x 36 x 13cm\\n\\nBelanja Lebih Cepat, Mudah Dan Nyaman Hanya Di Toko Jims Honey Official ^^',\n",
       "  'variants': ['Black', 'White', 'Navy', 'Pink'],\n",
       "  'url_product': 'https://shopee.co.id/Jims-Honey-Felicia-Backpack-Tas-Ransel-Wanita-Waterproof-i.17074378.7951915364'},\n",
       " {'name': 'Jims Honey - Keiko Backpack Tas Ransel Wanita',\n",
       "  'price_before_disc': 'Rp330.000',\n",
       "  'price_after_disc': 'Rp228.000',\n",
       "  'description': 'NEW ARRIVAL!! Best product JIMSHONEY it’s out now. Keiko Backpack never go out of style, Tas dengan desain yang cantik ini meskipun terlihat besar tapi tetep keliatan modis lho! Keiko backpack terbuat dari bahan parasut dan anti air. Space yang ada di dalam tas ini sangat besar sehingga membuat #JHLadies merasa sangat fleksibel karena barang barang akan terorganize dengan baik dan rapi\\n\\nCocok banget buat kamu yang khawatir kalo beli tas ngga cukup space untuk barang bawaan :)\\n\\n\\nSpesifikasi Produk :\\nTersedia 1 Ruang Penyimpanan Besar (Detail Dalam)\\nTersedia 1 Resleting Pocket (Detail Dalam)\\nTersedia 1 Sekat Pemisah Ruang (Detail Dalam)\\nTersedia 2 Pocket Kecil Untuk Aksesoris (Detail Dalam)\\nTersedia 2 Pocket Kecil DiBagian Samping (Detail Dalam)\\nTersedia 1 Pocket Besar Dengan Klip Magnet (Detail Luar)\\nTersedia 2 Pocket Disamping Kiri Dan Kanan Untuk Botol Tumblr (Detail Luar)\\nTersedia 1 Pocket Dibagian Belakang Tas Untuk Menyimpan Dompet Kecil Atau Aksesoris Kecil (Detail Luar)\\nMaterial : Parasut Lembut\\nBerat Tas : 700gr\\nUkuran : 30 x 20 x 43 cm\\n\\n\\nBelanja Lebih Cepat, Mudah Dan Nyaman Hanya Di Jims Honey Official Store ^^',\n",
       "  'variants': ['Black', 'Grey'],\n",
       "  'url_product': 'https://shopee.co.id/Jims-Honey-Keiko-Backpack-Tas-Ransel-Wanita-i.17074378.7632304010'},\n",
       " {'name': 'Jims Honey - Chika Backpack Tas Ransel Wanita',\n",
       "  'price_before_disc': 'Rp250.000',\n",
       "  'price_after_disc': 'Rp170.000',\n",
       "  'description': 'Introducing Chika Backpack from Jims Honey. Chic, unique and stylish backpack yang siap menemani aktivitas harianmu. Ruang penyimpanan utama yang lega, menjadi alasan Chika menjadi salah satu backpack terbaik yang pernah di produksi oleh Jims Honey. Dilengkapi dengan bahan parasut yang waterproof + compartment bersekat yang terbagi dengan baik, Chicka backpack siap menjadi andalanmu.\\n\\nSo, ladies, ready to grab this one? get chic, get chicka backpack.\\n\\nSpesifikasi Produk :\\nBrand : Jims Honey\\nTersedia 1 Ruang Penyimpanan Besar\\nTersedia 1 Sekat Ruang Untuk Laptop (Muat Laptop 14 Inch)\\nTersedia 5 Pocket Kecil Serbaguna, Bisa Untuk Aksesoris Atau Lainnya\\nTersedia 1 Resleting Pocket (Bagian Dalam)\\nTersedia 1 Resleting Pocket Besar (Bagian Depan)\\nTersedia 1 Resleting Pocket Besar (Bagian Belakang) , Dapat Dijadikan Untuk Menyimpan Dompet, Sehingga Lebih Aman Pada Saat Berada Di Tempat Umum\\nTersedia 2 Pocket Kiri Dan Kanan Tas Untuk Botol Minuman\\nMaterial : Parasut Waterproof\\nUkuran : 27 x 11 x 40cm\\nBerat : 600gram\\n\\nBelanja Lebih Cepat, Mudah Dan Nyaman Hanya Di Jims Honey Official Store^^',\n",
       "  'variants': [],\n",
       "  'url_product': 'https://shopee.co.id/Jims-Honey-Chika-Backpack-Tas-Ransel-Wanita-i.17074378.7710635239'},\n",
       " {'name': 'Jims Honey - Lily Sling Bag Tas Wanita Selempang Brand Original',\n",
       "  'price_before_disc': 'Rp169.000',\n",
       "  'price_after_disc': 'Rp140.000',\n",
       "  'description': 'Launch Lily bag by Jims Honey. Tas super cute ini hadir dengan design yang berbeda dari sebelumnya. Lily bag dapat dipakai secara 2 sisi yaitu sisi bagian depan tas dan sisi bagian belakang tas. Sisi bagian depan tas yang di kombinasi dengan pengunci (lock) memberikan kesan elegant sedangkan sisi bagian belakang tas yang di kombinasi dengan logo JIMS HONEY memberikan kesan casual sehingga cocok di padukan dengan pakaian yang simple (seperti atasan kaos \\'\\'\" bawahan celana dll).\\n\\nDetail tas bagian dalam juga berbeda dengan model-model tas sebelumnya. Lily bag ini memisahkan 2 ruang penyimpanan yang memudahkan Anda menginventori barang bawaan Anda. Misalnya, ruang tas bagian depan tas diisi dengan HP, Powerbank, Dompet Kecil (barang bawaan yang sering digunakan setiap saat), sedangkan ruang tas bagian belakang diisi dengan lipstick, bedak, tissue dan lain-lain (barang pelengkap saja). Lily bag di produksi dengan material kulit sintestis (memiliki tekstur seperti kulit jeruk) yang lembut. Lily bag hadir dengan 4 warna pilihan yaitu : Black, Red, Pink & Purple.\\n\\nDetail : \\n2 Ruang Penyimpanan Besar\\n1 Resleting Pocket Untuk Aksesoris\\n1 Pocket Kecil Untuk Aksesoris\\nLengkap Tali Panjang Tas\\nMaterial = Kulit Sintestis (Tekstur Kulit Jeruk)\\nBisa Dipakai Secara 2 Sisi (Sisi Depan & Sisi Belakang)\\nUkuran = 20.5 x 10 x 13 cm\\n\\nBelanja lebih cepat, mudah dan nyaman di Toko Official Jims Honey :) \\nHappy Shopping ^^',\n",
       "  'variants': [],\n",
       "  'url_product': 'https://shopee.co.id/Jims-Honey-Lily-Sling-Bag-Tas-Wanita-Selempang-Brand-Original-i.17074378.551905154'},\n",
       " {'name': 'Jims Honey - Mona Sling Bag Tas Wanita Selempang Brand Original',\n",
       "  'price_before_disc': 'Rp210.000',\n",
       "  'price_after_disc': 'Rp160.000',\n",
       "  'description': 'Embrace the classic, engage the minimalist, introducing Mona Bag from Jims Honey. When your needs is to be classy and minimalist at the same time, Mona Bag is the answer. Perpaduan antara gaya klasik namun tetap dalam balutan minimalis khas Jims Honey menjadikan Mona Bag pilihan yang tepat untuk kamu, ladies! Mona Bag memiliki 2 sisi tas yang design lock (pengunci) yang berbeda, sehingga memudahkan kamu untuk menginventory barang-barang bawaan kamu. Ekspresikan style-mu bersama Mona Bag dengan 7 varian warna : Navy, Grey, Dusty Pink, Black, Pink, Maroon, dan Brown. #iWearJH\\n\\nDetail : \\nMemiliki 2 Sisi Tas Yang Dapat Digunakan\\nTersedia 2 Ruang Penyimpanan Besar\\nTersedia 1 Resleting Pocket\\nTersedia 2 Pocket Kecil Untuk Aksesoris\\nLengkap Tali Panjang Tas\\nTinggi Handle (Pegangan) = 9CM\\nMaterial : Kulit Sintestis\\nUkuran : 24 x 11.5 x 17.5 cm\\n\\nBelanja lebih cepat, mudah dan nyaman di Toko Official Jims Honey :)',\n",
       "  'variants': ['Black', 'Brown', 'Maroon', 'Grey'],\n",
       "  'url_product': 'https://shopee.co.id/Jims-Honey-Mona-Sling-Bag-Tas-Wanita-Selempang-Brand-Original-i.17074378.1407198773'},\n",
       " {'name': 'Jims Honey - Kimi Sling Bag Tas Wanita Selempang',\n",
       "  'price_before_disc': 'Rp240.000',\n",
       "  'price_after_disc': 'Rp149.000',\n",
       "  'description': 'Jims Honey - Kimi Bag, tas kecil yang sangat Best Seller ini sangat cocok buat kamu pecinta hangout anti ribet. Design ruang penyimpanan Kimi Bag didesain secara khusus, sehingga Anda tidak perlu lagi membawa dompet, karna di bagian dalamnya sudah terdapat 12 slot kartu dan slot-slot pocket yang bisa dijadikan slot uang tunai. Tampilan tas Kimi Bag ini sangat elegant dan simple, sangat cocok dipakai sebagai tas untuk pesta juga. Material yang digunakan pada Kimi Bag ini adalah PU Leather yang cukup tebal, sehingga kesan exclusive sangat menempel erat pada Kimi Bag. *Kimi Bag sebagai tas best seller terbaru Jims Honey sejak produk.\\n\\nSpesifikasi Produk : \\nTersedia 4 Sekat Ruang Penyimpanan\\nTersedia 2 Slot Pocket\\nTersedia 1 Resleting Pocket\\nTersedia 12 Slot Untuk Kartu\\nPengunci = Magnet \\nTali Tas = Kombinasi Rantai Dan Kulit\\nMaterial : PU Leather\\nSize : 20 x 4.5 x 16 cm \\n\\nBelanja Lebih Cepat, Mudah Dan Nyaman Hanya Di Jims Honey ^^',\n",
       "  'variants': [],\n",
       "  'url_product': 'https://shopee.co.id/Jims-Honey-Kimi-Sling-Bag-Tas-Wanita-Selempang-i.17074378.1710284597'}]"
      ]
     },
     "execution_count": 37,
     "metadata": {},
     "output_type": "execute_result"
    }
   ],
   "source": [
    "product_list"
   ]
  },
  {
   "cell_type": "code",
   "execution_count": 40,
   "metadata": {
    "pycharm": {
     "name": "#%%\n"
    }
   },
   "outputs": [],
   "source": [
    "df_product = pd.DataFrame.from_dict(product_list)\n",
    "df_product.to_excel(\"product_jims_honey.xlsx\")"
   ]
  }
 ],
 "metadata": {
  "kernelspec": {
   "display_name": "Python 3 (ipykernel)",
   "language": "python",
   "name": "python3"
  },
  "language_info": {
   "codemirror_mode": {
    "name": "ipython",
    "version": 3
   },
   "file_extension": ".py",
   "mimetype": "text/x-python",
   "name": "python",
   "nbconvert_exporter": "python",
   "pygments_lexer": "ipython3",
   "version": "3.9.7"
  }
 },
 "nbformat": 4,
 "nbformat_minor": 1
}
